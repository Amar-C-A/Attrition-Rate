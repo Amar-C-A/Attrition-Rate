{
 "cells": [
  {
   "cell_type": "markdown",
   "metadata": {
    "id": "v74gtdMCdvvQ"
   },
   "source": [
    "Analysis Of Attrition Rate at the Company\n",
    "\n",
    "Roll No - D22005 \n",
    "Name - Amar A"
   ]
  },
  {
   "cell_type": "code",
   "execution_count": null,
   "metadata": {},
   "outputs": [],
   "source": []
  },
  {
   "cell_type": "markdown",
   "metadata": {},
   "source": [
    "#<font color='#006400'>**Problem Statement:**</font>\n",
    "\n",
    "A company need to keep a check on Employee Attrition rate and work towards reducing the Attriion rate "
   ]
  },
  {
   "cell_type": "markdown",
   "metadata": {
    "id": "TgGzWtcRYCWT"
   },
   "source": [
    "###<font color='#006400'>**Brief Overview of the Notebook**</font>\n",
    "* Missing and Duplicacy check\n",
    "* Exploratory Data Analysis\n",
    "* Model Building and finding the best model\n",
    "* Residual analysis\n",
    "* Summary : Insights & Recommendations\n",
    "\n"
   ]
  },
  {
   "cell_type": "code",
   "execution_count": 37,
   "metadata": {
    "colab": {
     "base_uri": "https://localhost:8080/",
     "height": 626
    },
    "id": "smMyLZjIGtED",
    "outputId": "f885d8a0-2959-41b5-f1e7-33634d1a425e"
   },
   "outputs": [
    {
     "data": {
      "text/html": [
       "<div>\n",
       "<style scoped>\n",
       "    .dataframe tbody tr th:only-of-type {\n",
       "        vertical-align: middle;\n",
       "    }\n",
       "\n",
       "    .dataframe tbody tr th {\n",
       "        vertical-align: top;\n",
       "    }\n",
       "\n",
       "    .dataframe thead th {\n",
       "        text-align: right;\n",
       "    }\n",
       "</style>\n",
       "<table border=\"1\" class=\"dataframe\">\n",
       "  <thead>\n",
       "    <tr style=\"text-align: right;\">\n",
       "      <th></th>\n",
       "      <th>Age</th>\n",
       "      <th>Attrition</th>\n",
       "      <th>BusinessTravel</th>\n",
       "      <th>Department</th>\n",
       "      <th>EducationField</th>\n",
       "      <th>EnvironmentSatisfaction</th>\n",
       "      <th>Gender</th>\n",
       "      <th>JobInvolvement</th>\n",
       "      <th>JobLevel</th>\n",
       "      <th>JobSatisfaction</th>\n",
       "      <th>MaritalStatus</th>\n",
       "      <th>MonthlyIncome</th>\n",
       "      <th>OverTime</th>\n",
       "      <th>TotalWorkingYears</th>\n",
       "      <th>WorkLifeBalance</th>\n",
       "      <th>YearsAtCompany</th>\n",
       "      <th>YearsInCurrentRole</th>\n",
       "      <th>YearsSinceLastPromotion</th>\n",
       "      <th>YearsWithCurrManager</th>\n",
       "      <th>DistanceFromHome</th>\n",
       "    </tr>\n",
       "  </thead>\n",
       "  <tbody>\n",
       "    <tr>\n",
       "      <th>0</th>\n",
       "      <td>41</td>\n",
       "      <td>1</td>\n",
       "      <td>Travel_Rarely</td>\n",
       "      <td>Sales</td>\n",
       "      <td>Life Sciences</td>\n",
       "      <td>2</td>\n",
       "      <td>Female</td>\n",
       "      <td>3</td>\n",
       "      <td>2</td>\n",
       "      <td>4</td>\n",
       "      <td>Single</td>\n",
       "      <td>5993</td>\n",
       "      <td>Yes</td>\n",
       "      <td>8</td>\n",
       "      <td>1</td>\n",
       "      <td>6</td>\n",
       "      <td>4</td>\n",
       "      <td>0</td>\n",
       "      <td>5</td>\n",
       "      <td>1</td>\n",
       "    </tr>\n",
       "    <tr>\n",
       "      <th>1</th>\n",
       "      <td>49</td>\n",
       "      <td>0</td>\n",
       "      <td>Travel_Frequently</td>\n",
       "      <td>Research &amp; Development</td>\n",
       "      <td>Life Sciences</td>\n",
       "      <td>3</td>\n",
       "      <td>Male</td>\n",
       "      <td>2</td>\n",
       "      <td>2</td>\n",
       "      <td>2</td>\n",
       "      <td>Married</td>\n",
       "      <td>5130</td>\n",
       "      <td>No</td>\n",
       "      <td>10</td>\n",
       "      <td>3</td>\n",
       "      <td>10</td>\n",
       "      <td>7</td>\n",
       "      <td>1</td>\n",
       "      <td>7</td>\n",
       "      <td>8</td>\n",
       "    </tr>\n",
       "    <tr>\n",
       "      <th>2</th>\n",
       "      <td>37</td>\n",
       "      <td>1</td>\n",
       "      <td>Travel_Rarely</td>\n",
       "      <td>Research &amp; Development</td>\n",
       "      <td>Other</td>\n",
       "      <td>4</td>\n",
       "      <td>Male</td>\n",
       "      <td>2</td>\n",
       "      <td>1</td>\n",
       "      <td>3</td>\n",
       "      <td>Single</td>\n",
       "      <td>2090</td>\n",
       "      <td>Yes</td>\n",
       "      <td>7</td>\n",
       "      <td>3</td>\n",
       "      <td>0</td>\n",
       "      <td>0</td>\n",
       "      <td>0</td>\n",
       "      <td>0</td>\n",
       "      <td>2</td>\n",
       "    </tr>\n",
       "    <tr>\n",
       "      <th>3</th>\n",
       "      <td>33</td>\n",
       "      <td>0</td>\n",
       "      <td>Travel_Frequently</td>\n",
       "      <td>Research &amp; Development</td>\n",
       "      <td>Life Sciences</td>\n",
       "      <td>4</td>\n",
       "      <td>Female</td>\n",
       "      <td>3</td>\n",
       "      <td>1</td>\n",
       "      <td>3</td>\n",
       "      <td>Married</td>\n",
       "      <td>2909</td>\n",
       "      <td>Yes</td>\n",
       "      <td>8</td>\n",
       "      <td>3</td>\n",
       "      <td>8</td>\n",
       "      <td>7</td>\n",
       "      <td>3</td>\n",
       "      <td>0</td>\n",
       "      <td>3</td>\n",
       "    </tr>\n",
       "    <tr>\n",
       "      <th>4</th>\n",
       "      <td>27</td>\n",
       "      <td>0</td>\n",
       "      <td>Travel_Rarely</td>\n",
       "      <td>Research &amp; Development</td>\n",
       "      <td>Medical</td>\n",
       "      <td>1</td>\n",
       "      <td>Male</td>\n",
       "      <td>3</td>\n",
       "      <td>1</td>\n",
       "      <td>2</td>\n",
       "      <td>Married</td>\n",
       "      <td>3468</td>\n",
       "      <td>No</td>\n",
       "      <td>6</td>\n",
       "      <td>3</td>\n",
       "      <td>2</td>\n",
       "      <td>2</td>\n",
       "      <td>2</td>\n",
       "      <td>2</td>\n",
       "      <td>2</td>\n",
       "    </tr>\n",
       "    <tr>\n",
       "      <th>...</th>\n",
       "      <td>...</td>\n",
       "      <td>...</td>\n",
       "      <td>...</td>\n",
       "      <td>...</td>\n",
       "      <td>...</td>\n",
       "      <td>...</td>\n",
       "      <td>...</td>\n",
       "      <td>...</td>\n",
       "      <td>...</td>\n",
       "      <td>...</td>\n",
       "      <td>...</td>\n",
       "      <td>...</td>\n",
       "      <td>...</td>\n",
       "      <td>...</td>\n",
       "      <td>...</td>\n",
       "      <td>...</td>\n",
       "      <td>...</td>\n",
       "      <td>...</td>\n",
       "      <td>...</td>\n",
       "      <td>...</td>\n",
       "    </tr>\n",
       "    <tr>\n",
       "      <th>1465</th>\n",
       "      <td>36</td>\n",
       "      <td>0</td>\n",
       "      <td>Travel_Frequently</td>\n",
       "      <td>Research &amp; Development</td>\n",
       "      <td>Medical</td>\n",
       "      <td>3</td>\n",
       "      <td>Male</td>\n",
       "      <td>4</td>\n",
       "      <td>2</td>\n",
       "      <td>4</td>\n",
       "      <td>Married</td>\n",
       "      <td>2571</td>\n",
       "      <td>No</td>\n",
       "      <td>17</td>\n",
       "      <td>3</td>\n",
       "      <td>5</td>\n",
       "      <td>2</td>\n",
       "      <td>0</td>\n",
       "      <td>3</td>\n",
       "      <td>23</td>\n",
       "    </tr>\n",
       "    <tr>\n",
       "      <th>1466</th>\n",
       "      <td>39</td>\n",
       "      <td>0</td>\n",
       "      <td>Travel_Rarely</td>\n",
       "      <td>Research &amp; Development</td>\n",
       "      <td>Medical</td>\n",
       "      <td>4</td>\n",
       "      <td>Male</td>\n",
       "      <td>2</td>\n",
       "      <td>3</td>\n",
       "      <td>1</td>\n",
       "      <td>Married</td>\n",
       "      <td>9991</td>\n",
       "      <td>No</td>\n",
       "      <td>9</td>\n",
       "      <td>3</td>\n",
       "      <td>7</td>\n",
       "      <td>7</td>\n",
       "      <td>1</td>\n",
       "      <td>7</td>\n",
       "      <td>6</td>\n",
       "    </tr>\n",
       "    <tr>\n",
       "      <th>1467</th>\n",
       "      <td>27</td>\n",
       "      <td>0</td>\n",
       "      <td>Travel_Rarely</td>\n",
       "      <td>Research &amp; Development</td>\n",
       "      <td>Life Sciences</td>\n",
       "      <td>2</td>\n",
       "      <td>Male</td>\n",
       "      <td>4</td>\n",
       "      <td>2</td>\n",
       "      <td>2</td>\n",
       "      <td>Married</td>\n",
       "      <td>6142</td>\n",
       "      <td>Yes</td>\n",
       "      <td>6</td>\n",
       "      <td>3</td>\n",
       "      <td>6</td>\n",
       "      <td>2</td>\n",
       "      <td>0</td>\n",
       "      <td>3</td>\n",
       "      <td>4</td>\n",
       "    </tr>\n",
       "    <tr>\n",
       "      <th>1468</th>\n",
       "      <td>49</td>\n",
       "      <td>0</td>\n",
       "      <td>Travel_Frequently</td>\n",
       "      <td>Sales</td>\n",
       "      <td>Medical</td>\n",
       "      <td>4</td>\n",
       "      <td>Male</td>\n",
       "      <td>2</td>\n",
       "      <td>2</td>\n",
       "      <td>2</td>\n",
       "      <td>Married</td>\n",
       "      <td>5390</td>\n",
       "      <td>No</td>\n",
       "      <td>17</td>\n",
       "      <td>2</td>\n",
       "      <td>9</td>\n",
       "      <td>6</td>\n",
       "      <td>0</td>\n",
       "      <td>8</td>\n",
       "      <td>2</td>\n",
       "    </tr>\n",
       "    <tr>\n",
       "      <th>1469</th>\n",
       "      <td>34</td>\n",
       "      <td>0</td>\n",
       "      <td>Travel_Rarely</td>\n",
       "      <td>Research &amp; Development</td>\n",
       "      <td>Medical</td>\n",
       "      <td>2</td>\n",
       "      <td>Male</td>\n",
       "      <td>4</td>\n",
       "      <td>2</td>\n",
       "      <td>3</td>\n",
       "      <td>Married</td>\n",
       "      <td>4404</td>\n",
       "      <td>No</td>\n",
       "      <td>6</td>\n",
       "      <td>4</td>\n",
       "      <td>4</td>\n",
       "      <td>3</td>\n",
       "      <td>1</td>\n",
       "      <td>2</td>\n",
       "      <td>8</td>\n",
       "    </tr>\n",
       "  </tbody>\n",
       "</table>\n",
       "<p>1470 rows × 20 columns</p>\n",
       "</div>"
      ],
      "text/plain": [
       "      Age  Attrition     BusinessTravel              Department  \\\n",
       "0      41          1      Travel_Rarely                   Sales   \n",
       "1      49          0  Travel_Frequently  Research & Development   \n",
       "2      37          1      Travel_Rarely  Research & Development   \n",
       "3      33          0  Travel_Frequently  Research & Development   \n",
       "4      27          0      Travel_Rarely  Research & Development   \n",
       "...   ...        ...                ...                     ...   \n",
       "1465   36          0  Travel_Frequently  Research & Development   \n",
       "1466   39          0      Travel_Rarely  Research & Development   \n",
       "1467   27          0      Travel_Rarely  Research & Development   \n",
       "1468   49          0  Travel_Frequently                   Sales   \n",
       "1469   34          0      Travel_Rarely  Research & Development   \n",
       "\n",
       "     EducationField  EnvironmentSatisfaction  Gender  JobInvolvement  \\\n",
       "0     Life Sciences                        2  Female               3   \n",
       "1     Life Sciences                        3    Male               2   \n",
       "2             Other                        4    Male               2   \n",
       "3     Life Sciences                        4  Female               3   \n",
       "4           Medical                        1    Male               3   \n",
       "...             ...                      ...     ...             ...   \n",
       "1465        Medical                        3    Male               4   \n",
       "1466        Medical                        4    Male               2   \n",
       "1467  Life Sciences                        2    Male               4   \n",
       "1468        Medical                        4    Male               2   \n",
       "1469        Medical                        2    Male               4   \n",
       "\n",
       "      JobLevel  JobSatisfaction MaritalStatus  MonthlyIncome OverTime  \\\n",
       "0            2                4        Single           5993      Yes   \n",
       "1            2                2       Married           5130       No   \n",
       "2            1                3        Single           2090      Yes   \n",
       "3            1                3       Married           2909      Yes   \n",
       "4            1                2       Married           3468       No   \n",
       "...        ...              ...           ...            ...      ...   \n",
       "1465         2                4       Married           2571       No   \n",
       "1466         3                1       Married           9991       No   \n",
       "1467         2                2       Married           6142      Yes   \n",
       "1468         2                2       Married           5390       No   \n",
       "1469         2                3       Married           4404       No   \n",
       "\n",
       "      TotalWorkingYears  WorkLifeBalance  YearsAtCompany  YearsInCurrentRole  \\\n",
       "0                     8                1               6                   4   \n",
       "1                    10                3              10                   7   \n",
       "2                     7                3               0                   0   \n",
       "3                     8                3               8                   7   \n",
       "4                     6                3               2                   2   \n",
       "...                 ...              ...             ...                 ...   \n",
       "1465                 17                3               5                   2   \n",
       "1466                  9                3               7                   7   \n",
       "1467                  6                3               6                   2   \n",
       "1468                 17                2               9                   6   \n",
       "1469                  6                4               4                   3   \n",
       "\n",
       "      YearsSinceLastPromotion  YearsWithCurrManager  DistanceFromHome  \n",
       "0                           0                     5                 1  \n",
       "1                           1                     7                 8  \n",
       "2                           0                     0                 2  \n",
       "3                           3                     0                 3  \n",
       "4                           2                     2                 2  \n",
       "...                       ...                   ...               ...  \n",
       "1465                        0                     3                23  \n",
       "1466                        1                     7                 6  \n",
       "1467                        0                     3                 4  \n",
       "1468                        0                     8                 2  \n",
       "1469                        1                     2                 8  \n",
       "\n",
       "[1470 rows x 20 columns]"
      ]
     },
     "execution_count": 37,
     "metadata": {},
     "output_type": "execute_result"
    }
   ],
   "source": [
    "# imort datase\n",
    "import pandas as pd\n",
    " \n",
    "data = pd.read_csv(r'C:/Users/amarc/Downloads/IML/Dataset/attrition.csv')\n",
    "data"
   ]
  },
  {
   "cell_type": "markdown",
   "metadata": {},
   "source": [
    "#### Missing and Duplicacy check"
   ]
  },
  {
   "cell_type": "code",
   "execution_count": null,
   "metadata": {
    "colab": {
     "base_uri": "https://localhost:8080/"
    },
    "id": "hZXraULksu_p",
    "outputId": "4e9d4fa8-c148-4c42-a70b-3a42f4a69851"
   },
   "outputs": [],
   "source": [
    "data.isnull().sum()"
   ]
  },
  {
   "cell_type": "markdown",
   "metadata": {
    "id": "yWHkibuvsvFw"
   },
   "source": [
    "# Exploratory Data Analysis"
   ]
  },
  {
   "cell_type": "markdown",
   "metadata": {},
   "source": [
    "#### Identification of variables and data types:"
   ]
  },
  {
   "cell_type": "code",
   "execution_count": null,
   "metadata": {},
   "outputs": [],
   "source": [
    "data.shape"
   ]
  },
  {
   "cell_type": "code",
   "execution_count": 39,
   "metadata": {},
   "outputs": [
    {
     "name": "stdout",
     "output_type": "stream",
     "text": [
      "<class 'pandas.core.frame.DataFrame'>\n",
      "RangeIndex: 1470 entries, 0 to 1469\n",
      "Data columns (total 20 columns):\n",
      " #   Column                   Non-Null Count  Dtype \n",
      "---  ------                   --------------  ----- \n",
      " 0   Age                      1470 non-null   int64 \n",
      " 1   Attrition                1470 non-null   int64 \n",
      " 2   BusinessTravel           1470 non-null   object\n",
      " 3   Department               1470 non-null   object\n",
      " 4   EducationField           1470 non-null   object\n",
      " 5   EnvironmentSatisfaction  1470 non-null   int64 \n",
      " 6   Gender                   1470 non-null   object\n",
      " 7   JobInvolvement           1470 non-null   int64 \n",
      " 8   JobLevel                 1470 non-null   int64 \n",
      " 9   JobSatisfaction          1470 non-null   int64 \n",
      " 10  MaritalStatus            1470 non-null   object\n",
      " 11  MonthlyIncome            1470 non-null   int64 \n",
      " 12  OverTime                 1470 non-null   object\n",
      " 13  TotalWorkingYears        1470 non-null   int64 \n",
      " 14  WorkLifeBalance          1470 non-null   int64 \n",
      " 15  YearsAtCompany           1470 non-null   int64 \n",
      " 16  YearsInCurrentRole       1470 non-null   int64 \n",
      " 17  YearsSinceLastPromotion  1470 non-null   int64 \n",
      " 18  YearsWithCurrManager     1470 non-null   int64 \n",
      " 19  DistanceFromHome         1470 non-null   int64 \n",
      "dtypes: int64(14), object(6)\n",
      "memory usage: 229.8+ KB\n"
     ]
    }
   ],
   "source": [
    "data.info()"
   ]
  },
  {
   "cell_type": "markdown",
   "metadata": {
    "id": "HhknyJs9WNja"
   },
   "source": [
    "#### Analysing basic metrics"
   ]
  },
  {
   "cell_type": "code",
   "execution_count": 38,
   "metadata": {
    "colab": {
     "base_uri": "https://localhost:8080/",
     "height": 364
    },
    "id": "cvJvBEAxHjf6",
    "outputId": "a42743a0-2a00-4988-9579-5bcf8c2b4559"
   },
   "outputs": [
    {
     "data": {
      "text/html": [
       "<div>\n",
       "<style scoped>\n",
       "    .dataframe tbody tr th:only-of-type {\n",
       "        vertical-align: middle;\n",
       "    }\n",
       "\n",
       "    .dataframe tbody tr th {\n",
       "        vertical-align: top;\n",
       "    }\n",
       "\n",
       "    .dataframe thead th {\n",
       "        text-align: right;\n",
       "    }\n",
       "</style>\n",
       "<table border=\"1\" class=\"dataframe\">\n",
       "  <thead>\n",
       "    <tr style=\"text-align: right;\">\n",
       "      <th></th>\n",
       "      <th>Age</th>\n",
       "      <th>Attrition</th>\n",
       "      <th>EnvironmentSatisfaction</th>\n",
       "      <th>JobInvolvement</th>\n",
       "      <th>JobLevel</th>\n",
       "      <th>JobSatisfaction</th>\n",
       "      <th>MonthlyIncome</th>\n",
       "      <th>TotalWorkingYears</th>\n",
       "      <th>WorkLifeBalance</th>\n",
       "      <th>YearsAtCompany</th>\n",
       "      <th>YearsInCurrentRole</th>\n",
       "      <th>YearsSinceLastPromotion</th>\n",
       "      <th>YearsWithCurrManager</th>\n",
       "      <th>DistanceFromHome</th>\n",
       "    </tr>\n",
       "  </thead>\n",
       "  <tbody>\n",
       "    <tr>\n",
       "      <th>count</th>\n",
       "      <td>1470.000000</td>\n",
       "      <td>1470.000000</td>\n",
       "      <td>1470.000000</td>\n",
       "      <td>1470.000000</td>\n",
       "      <td>1470.000000</td>\n",
       "      <td>1470.000000</td>\n",
       "      <td>1470.000000</td>\n",
       "      <td>1470.000000</td>\n",
       "      <td>1470.000000</td>\n",
       "      <td>1470.000000</td>\n",
       "      <td>1470.000000</td>\n",
       "      <td>1470.000000</td>\n",
       "      <td>1470.000000</td>\n",
       "      <td>1470.000000</td>\n",
       "    </tr>\n",
       "    <tr>\n",
       "      <th>mean</th>\n",
       "      <td>36.923810</td>\n",
       "      <td>0.161224</td>\n",
       "      <td>2.721769</td>\n",
       "      <td>2.729932</td>\n",
       "      <td>2.063946</td>\n",
       "      <td>2.728571</td>\n",
       "      <td>6502.931293</td>\n",
       "      <td>11.279592</td>\n",
       "      <td>2.761224</td>\n",
       "      <td>7.008163</td>\n",
       "      <td>4.229252</td>\n",
       "      <td>2.187755</td>\n",
       "      <td>4.123129</td>\n",
       "      <td>9.192517</td>\n",
       "    </tr>\n",
       "    <tr>\n",
       "      <th>std</th>\n",
       "      <td>9.135373</td>\n",
       "      <td>0.367863</td>\n",
       "      <td>1.093082</td>\n",
       "      <td>0.711561</td>\n",
       "      <td>1.106940</td>\n",
       "      <td>1.102846</td>\n",
       "      <td>4707.956783</td>\n",
       "      <td>7.780782</td>\n",
       "      <td>0.706476</td>\n",
       "      <td>6.126525</td>\n",
       "      <td>3.623137</td>\n",
       "      <td>3.222430</td>\n",
       "      <td>3.568136</td>\n",
       "      <td>8.106864</td>\n",
       "    </tr>\n",
       "    <tr>\n",
       "      <th>min</th>\n",
       "      <td>18.000000</td>\n",
       "      <td>0.000000</td>\n",
       "      <td>1.000000</td>\n",
       "      <td>1.000000</td>\n",
       "      <td>1.000000</td>\n",
       "      <td>1.000000</td>\n",
       "      <td>1009.000000</td>\n",
       "      <td>0.000000</td>\n",
       "      <td>1.000000</td>\n",
       "      <td>0.000000</td>\n",
       "      <td>0.000000</td>\n",
       "      <td>0.000000</td>\n",
       "      <td>0.000000</td>\n",
       "      <td>1.000000</td>\n",
       "    </tr>\n",
       "    <tr>\n",
       "      <th>25%</th>\n",
       "      <td>30.000000</td>\n",
       "      <td>0.000000</td>\n",
       "      <td>2.000000</td>\n",
       "      <td>2.000000</td>\n",
       "      <td>1.000000</td>\n",
       "      <td>2.000000</td>\n",
       "      <td>2911.000000</td>\n",
       "      <td>6.000000</td>\n",
       "      <td>2.000000</td>\n",
       "      <td>3.000000</td>\n",
       "      <td>2.000000</td>\n",
       "      <td>0.000000</td>\n",
       "      <td>2.000000</td>\n",
       "      <td>2.000000</td>\n",
       "    </tr>\n",
       "    <tr>\n",
       "      <th>50%</th>\n",
       "      <td>36.000000</td>\n",
       "      <td>0.000000</td>\n",
       "      <td>3.000000</td>\n",
       "      <td>3.000000</td>\n",
       "      <td>2.000000</td>\n",
       "      <td>3.000000</td>\n",
       "      <td>4919.000000</td>\n",
       "      <td>10.000000</td>\n",
       "      <td>3.000000</td>\n",
       "      <td>5.000000</td>\n",
       "      <td>3.000000</td>\n",
       "      <td>1.000000</td>\n",
       "      <td>3.000000</td>\n",
       "      <td>7.000000</td>\n",
       "    </tr>\n",
       "    <tr>\n",
       "      <th>75%</th>\n",
       "      <td>43.000000</td>\n",
       "      <td>0.000000</td>\n",
       "      <td>4.000000</td>\n",
       "      <td>3.000000</td>\n",
       "      <td>3.000000</td>\n",
       "      <td>4.000000</td>\n",
       "      <td>8379.000000</td>\n",
       "      <td>15.000000</td>\n",
       "      <td>3.000000</td>\n",
       "      <td>9.000000</td>\n",
       "      <td>7.000000</td>\n",
       "      <td>3.000000</td>\n",
       "      <td>7.000000</td>\n",
       "      <td>14.000000</td>\n",
       "    </tr>\n",
       "    <tr>\n",
       "      <th>max</th>\n",
       "      <td>60.000000</td>\n",
       "      <td>1.000000</td>\n",
       "      <td>4.000000</td>\n",
       "      <td>4.000000</td>\n",
       "      <td>5.000000</td>\n",
       "      <td>4.000000</td>\n",
       "      <td>19999.000000</td>\n",
       "      <td>40.000000</td>\n",
       "      <td>4.000000</td>\n",
       "      <td>40.000000</td>\n",
       "      <td>18.000000</td>\n",
       "      <td>15.000000</td>\n",
       "      <td>17.000000</td>\n",
       "      <td>29.000000</td>\n",
       "    </tr>\n",
       "  </tbody>\n",
       "</table>\n",
       "</div>"
      ],
      "text/plain": [
       "               Age    Attrition  EnvironmentSatisfaction  JobInvolvement  \\\n",
       "count  1470.000000  1470.000000              1470.000000     1470.000000   \n",
       "mean     36.923810     0.161224                 2.721769        2.729932   \n",
       "std       9.135373     0.367863                 1.093082        0.711561   \n",
       "min      18.000000     0.000000                 1.000000        1.000000   \n",
       "25%      30.000000     0.000000                 2.000000        2.000000   \n",
       "50%      36.000000     0.000000                 3.000000        3.000000   \n",
       "75%      43.000000     0.000000                 4.000000        3.000000   \n",
       "max      60.000000     1.000000                 4.000000        4.000000   \n",
       "\n",
       "          JobLevel  JobSatisfaction  MonthlyIncome  TotalWorkingYears  \\\n",
       "count  1470.000000      1470.000000    1470.000000        1470.000000   \n",
       "mean      2.063946         2.728571    6502.931293          11.279592   \n",
       "std       1.106940         1.102846    4707.956783           7.780782   \n",
       "min       1.000000         1.000000    1009.000000           0.000000   \n",
       "25%       1.000000         2.000000    2911.000000           6.000000   \n",
       "50%       2.000000         3.000000    4919.000000          10.000000   \n",
       "75%       3.000000         4.000000    8379.000000          15.000000   \n",
       "max       5.000000         4.000000   19999.000000          40.000000   \n",
       "\n",
       "       WorkLifeBalance  YearsAtCompany  YearsInCurrentRole  \\\n",
       "count      1470.000000     1470.000000         1470.000000   \n",
       "mean          2.761224        7.008163            4.229252   \n",
       "std           0.706476        6.126525            3.623137   \n",
       "min           1.000000        0.000000            0.000000   \n",
       "25%           2.000000        3.000000            2.000000   \n",
       "50%           3.000000        5.000000            3.000000   \n",
       "75%           3.000000        9.000000            7.000000   \n",
       "max           4.000000       40.000000           18.000000   \n",
       "\n",
       "       YearsSinceLastPromotion  YearsWithCurrManager  DistanceFromHome  \n",
       "count              1470.000000           1470.000000       1470.000000  \n",
       "mean                  2.187755              4.123129          9.192517  \n",
       "std                   3.222430              3.568136          8.106864  \n",
       "min                   0.000000              0.000000          1.000000  \n",
       "25%                   0.000000              2.000000          2.000000  \n",
       "50%                   1.000000              3.000000          7.000000  \n",
       "75%                   3.000000              7.000000         14.000000  \n",
       "max                  15.000000             17.000000         29.000000  "
      ]
     },
     "execution_count": 38,
     "metadata": {},
     "output_type": "execute_result"
    }
   ],
   "source": [
    "data.describe()"
   ]
  },
  {
   "cell_type": "markdown",
   "metadata": {
    "id": "TF81cD4R16aq"
   },
   "source": [
    "1 The Attrition CSV dataset consist of 20 variables in which there are 6 Categorical Variables , 6 Discrete variables and 8 Continueous variables\n",
    "\n",
    "2 The count of all the variables are 1470 and there are zero null values in the dataset\n",
    "\n",
    "3 Above analysis shows that the these variables Age,Monthly salary,Total working years,Years at company and Distance from home were ditributed lot. i.e the standard deviation for these variables is more.\n",
    "\n",
    "4 The min values of variables (Age,Attrition,BusinessTravel,Department,EducationField,EnvironmentSatisfaction,Gender,JobInvolvement,JobLevel,JobSatisfaction,MaritalStatus,MonthlyIncome,OverTime,TotalWorkingYears,WorkLifeBalance,YearsAtCompany,YearsInCurrentRole,YearsSinceLastPromotion,YearsWithCurrManager,DistanceFromHome) are as follows\n",
    "(18.000000,0.000000,1.000000,1.000000,1.000000,1.000000,1009.000000,0.000000,1.000000,0.000000,0.000000,0.000000,0.000000,1.00000)\n",
    "\n",
    "5 The Quntile 1(Q1)/ the variable values which fall under 25% of total values of all the variables (Age,Attrition,BusinessTravel,Department,EducationField,EnvironmentSatisfaction,Gender,JobInvolvement,JobLevel,JobSatisfaction,MaritalStatus,MonthlyIncome,OverTime,TotalWorkingYears,WorkLifeBalance,YearsAtCompany,YearsInCurrentRole,YearsSinceLastPromotion,YearsWithCurrManager,DistanceFromHome) are as follows\n",
    "(30.000000,0.000000,2.000000,2.000000,1.000000,       2.000000,2911.000000,6.000000,2.000000,3.000000,      2.000000,0.000000,2.000000,2.000000)\n",
    "\n",
    "6 The Median / the variable values which fall under 50% of total values of all the variables (Age,Attrition,BusinessTravel,Department,EducationField,EnvironmentSatisfaction,Gender,JobInvolvement,JobLevel,JobSatisfaction,MaritalStatus,MonthlyIncome,OverTime,TotalWorkingYears,WorkLifeBalance,YearsAtCompany,YearsInCurrentRole,YearsSinceLastPromotion,YearsWithCurrManager,DistanceFromHome) are as follows\n",
    "(36.000000,0.000000,3.000000,3.000000,2.000000,        3.000000,4919.000000,10.000000,3.000000,5.000000,     3.000000,1.000000,3.000000,7.000000)\n",
    "\n",
    "7 The Quntile 3(Q3)/ the variable values which fall under 70% of total values of all the variables (Age,Attrition,BusinessTravel,Department,EducationField,EnvironmentSatisfaction,Gender,JobInvolvement,JobLevel,JobSatisfaction,MaritalStatus,MonthlyIncome,OverTime,TotalWorkingYears,WorkLifeBalance,YearsAtCompany,YearsInCurrentRole,YearsSinceLastPromotion,YearsWithCurrManager,DistanceFromHome) are as follows\n",
    "(43.000000,0.000000,4.000000,3.000000,3.000000,       4.000000,8379.000000,15.000000,3.000000,9.000000,     7.000000,3.000000,7.000000,14.000000)\n",
    "\n",
    "8 The min values of variables (Age,Attrition,BusinessTravel,Department,EducationField,EnvironmentSatisfaction,Gender,JobInvolvement,JobLevel,JobSatisfaction,MaritalStatus,MonthlyIncome,OverTime,TotalWorkingYears,WorkLifeBalance,YearsAtCompany,YearsInCurrentRole,YearsSinceLastPromotion,YearsWithCurrManager,DistanceFromHome) are as follows\n",
    "(60.000000,1.000000,4.000000,4.000000,5.000000,       4.000000,19999.000000,40.000000,4.000000,40.000000,   18.000000,15.000000,17.000000,29.000000)\n"
   ]
  },
  {
   "cell_type": "markdown",
   "metadata": {},
   "source": [
    "### 1 Univariet Analysis"
   ]
  },
  {
   "cell_type": "code",
   "execution_count": 40,
   "metadata": {},
   "outputs": [],
   "source": [
    "import warnings\n",
    "import numpy as np\n",
    "import pandas as pd\n",
    "import seaborn as sns\n",
    "import matplotlib.pyplot as plt"
   ]
  },
  {
   "cell_type": "code",
   "execution_count": 41,
   "metadata": {},
   "outputs": [],
   "source": [
    "Cont_var = ['Age','MonthlyIncome','TotalWorkingYears','YearsAtCompany','YearsInCurrentRole',\n",
    "      'YearsSinceLastPromotion','DistanceFromHome','YearsWithCurrManager']"
   ]
  },
  {
   "cell_type": "code",
   "execution_count": 42,
   "metadata": {},
   "outputs": [
    {
     "data": {
      "image/png": "[encoded data removed]",
      "text/plain": [
       "<Figure size 432x432 with 1 Axes>"
      ]
     },
     "metadata": {
      "needs_background": "light"
     },
     "output_type": "display_data"
    },
    {
     "data": {
      "image/png": "[encoded data removed]",
      "text/plain": [
       "<Figure size 432x432 with 1 Axes>"
      ]
     },
     "metadata": {
      "needs_background": "light"
     },
     "output_type": "display_data"
    },
    {
     "data": {
      "image/png": "[encoded data removed]",
      "text/plain": [
       "<Figure size 432x432 with 1 Axes>"
      ]
     },
     "metadata": {
      "needs_background": "light"
     },
     "output_type": "display_data"
    },
    {
     "data": {
      "image/png": "[encoded data removed]",
      "text/plain": [
       "<Figure size 432x432 with 1 Axes>"
      ]
     },
     "metadata": {
      "needs_background": "light"
     },
     "output_type": "display_data"
    },
    {
     "data": {
      "image/png": "[encoded data removed]",
      "text/plain": [
       "<Figure size 432x432 with 1 Axes>"
      ]
     },
     "metadata": {
      "needs_background": "light"
     },
     "output_type": "display_data"
    },
    {
     "data": {
      "image/png": "[encoded data removed]",
      "text/plain": [
       "<Figure size 432x432 with 1 Axes>"
      ]
     },
     "metadata": {
      "needs_background": "light"
     },
     "output_type": "display_data"
    },
    {
     "data": {
      "image/png": "[encoded data removed]",
      "text/plain": [
       "<Figure size 432x432 with 1 Axes>"
      ]
     },
     "metadata": {
      "needs_background": "light"
     },
     "output_type": "display_data"
    },
    {
     "data": {
      "image/png": "[encoded data removed]",
      "text/plain": [
       "<Figure size 432x432 with 1 Axes>"
      ]
     },
     "metadata": {
      "needs_background": "light"
     },
     "output_type": "display_data"
    }
   ],
   "source": [
    "for i in Cont_var:\n",
    "    data.hist(column=i,grid=False,figsize=(6,6),color= 'black',edgecolor='white',bins=15)\n",
    "    plt.xlabel(i,fontsize = 12)\n",
    "\n",
    "    plt.ylabel('Counts',fontsize = 12)\n",
    "    plt.title( f'Histogram of {i}',fontsize = 16)\n",
    "    plt.show()"
   ]
  },
  {
   "cell_type": "code",
   "execution_count": 43,
   "metadata": {},
   "outputs": [
    {
     "data": {
      "image/png": "[encoded data removed]",
      "text/plain": [
       "<Figure size 432x288 with 1 Axes>"
      ]
     },
     "metadata": {
      "needs_background": "light"
     },
     "output_type": "display_data"
    },
    {
     "data": {
      "image/png": "[encoded data removed]",
      "text/plain": [
       "<Figure size 432x288 with 1 Axes>"
      ]
     },
     "metadata": {
      "needs_background": "light"
     },
     "output_type": "display_data"
    },
    {
     "data": {
      "image/png": "[encoded data removed]",
      "text/plain": [
       "<Figure size 432x288 with 1 Axes>"
      ]
     },
     "metadata": {
      "needs_background": "light"
     },
     "output_type": "display_data"
    },
    {
     "data": {
      "image/png": "[encoded data removed]",
      "text/plain": [
       "<Figure size 432x288 with 1 Axes>"
      ]
     },
     "metadata": {
      "needs_background": "light"
     },
     "output_type": "display_data"
    },
    {
     "data": {
      "image/png": "[encoded data removed]",
      "text/plain": [
       "<Figure size 432x288 with 1 Axes>"
      ]
     },
     "metadata": {
      "needs_background": "light"
     },
     "output_type": "display_data"
    },
    {
     "data": {
      "image/png": "[encoded data removed]",
      "text/plain": [
       "<Figure size 432x288 with 1 Axes>"
      ]
     },
     "metadata": {
      "needs_background": "light"
     },
     "output_type": "display_data"
    },
    {
     "data": {
      "image/png": "[encoded data removed]",
      "text/plain": [
       "<Figure size 432x288 with 1 Axes>"
      ]
     },
     "metadata": {
      "needs_background": "light"
     },
     "output_type": "display_data"
    },
    {
     "data": {
      "image/png": "[encoded data removed]",
      "text/plain": [
       "<Figure size 432x288 with 1 Axes>"
      ]
     },
     "metadata": {
      "needs_background": "light"
     },
     "output_type": "display_data"
    }
   ],
   "source": [
    "for i in Cont_var:\n",
    "    data.boxplot(column=i,grid=False)\n",
    "    plt.ylabel(i,fontsize = 12)\n",
    "    plt.title( f'boxplot of {i}',fontsize = 16)\n",
    "    plt.show()"
   ]
  },
  {
   "cell_type": "code",
   "execution_count": null,
   "metadata": {},
   "outputs": [],
   "source": []
  },
  {
   "cell_type": "code",
   "execution_count": null,
   "metadata": {},
   "outputs": [],
   "source": []
  },
  {
   "cell_type": "markdown",
   "metadata": {
    "id": "mHHBy9JkWP6f"
   },
   "source": [
    "## 2 Bivarient Analysis"
   ]
  },
  {
   "cell_type": "code",
   "execution_count": null,
   "metadata": {
    "id": "HcQkehb2o7le"
   },
   "outputs": [],
   "source": [
    "cut_age = pd.cut(data[\"Age\"],bins=[18,30,36,43,60],include_lowest=False)\n",
    "cut_MonthlyIncome = pd.cut(data[\"MonthlyIncome\"],bins=[1000,3000,5000,8500,20000],include_lowest=False)\n",
    "cut_TotalWorkingYears = pd.cut(data[\"TotalWorkingYears\"],bins=[0,1,2,3,5,6,10,15,40],include_lowest=False)\n",
    "cut_YearsAtCompany = pd.cut(data[\"YearsAtCompany\"],bins=[0,1,2,3,5,10,15,40],include_lowest=False)\n",
    "cut_YearsInCurrentRole = pd.cut(data[\"YearsInCurrentRole\"],bins=[0,2,3,7,18],include_lowest=False)\n",
    "cut_YearsSinceLastPromotion = pd.cut(data[\"YearsSinceLastPromotion\"],bins=[0,1,3,15],include_lowest=False)\n",
    "cut_DistanceFromHome = pd.cut(data[\"DistanceFromHome\"],bins=[0,5,10,15,20,25,30],include_lowest=False)\n",
    "cut_YearsWithCurrManager = pd.cut(data[\"YearsWithCurrManager\"],bins=[0,2,3,7,17],include_lowest=False)\n",
    "\n",
    "list1 = ['BusinessTravel','Department','EducationField','EnvironmentSatisfaction',\n",
    "         'Gender','JobInvolvement','JobLevel','JobSatisfaction','MaritalStatus',\n",
    "         'OverTime','WorkLifeBalance',\n",
    "         ]"
   ]
  },
  {
   "cell_type": "code",
   "execution_count": null,
   "metadata": {
    "id": "hYZ0H8aBZnpo"
   },
   "outputs": [],
   "source": []
  },
  {
   "cell_type": "markdown",
   "metadata": {
    "id": "pXNpQGQ7sfxT"
   },
   "source": [
    "### 1 Attrition rate"
   ]
  },
  {
   "cell_type": "code",
   "execution_count": null,
   "metadata": {
    "colab": {
     "base_uri": "https://localhost:8080/",
     "height": 279
    },
    "id": "rVHmg2QKZnv1",
    "outputId": "0a9922d5-96c6-4fc3-b96c-e41fdb183cd4"
   },
   "outputs": [],
   "source": [
    "# the attrition in the organisation\n",
    "sns.countplot(x='Attrition', data = data)\n",
    "plt.show()"
   ]
  },
  {
   "cell_type": "markdown",
   "metadata": {
    "id": "yuqWeFvNgOXX"
   },
   "source": [
    "The Attrition rate is nearly 1:6 of the total population"
   ]
  },
  {
   "cell_type": "markdown",
   "metadata": {
    "id": "AMqNW5PSpvpQ"
   },
   "source": [
    "### 2 Attrition based on categorical variables"
   ]
  },
  {
   "cell_type": "code",
   "execution_count": null,
   "metadata": {
    "colab": {
     "base_uri": "https://localhost:8080/",
     "height": 1000
    },
    "id": "5j4yzuyQpMPy",
    "outputId": "a436c431-6c7b-4d47-8798-047cd979bf5f"
   },
   "outputs": [],
   "source": [
    "for cvar in list1:\n",
    "    if cvar == 'Attrition':\n",
    "        continue\n",
    "    print('------------',cvar.upper(),'------------------')\n",
    "    tab = pd.crosstab(data[cvar],columns=data.Attrition)\n",
    "    print(tab)\n",
    "    print(' ')\n",
    "    rowtotal = tab.sum(axis =1)\n",
    "    tab2 = tab.div(rowtotal,axis=0)\n",
    "    print(tab2)\n",
    "    tab2.plot.bar(rot=0)\n",
    "    plt.show()\n",
    "    print(' ')"
   ]
  },
  {
   "cell_type": "markdown",
   "metadata": {
    "id": "HNzpbEYTgxli"
   },
   "source": [
    "### 3 Attrition based on Age"
   ]
  },
  {
   "cell_type": "code",
   "execution_count": null,
   "metadata": {
    "colab": {
     "base_uri": "https://localhost:8080/",
     "height": 409
    },
    "id": "6NWV5CR1Z0cF",
    "outputId": "d2334822-6a9c-4d4c-a9e3-1978010cf56c"
   },
   "outputs": [],
   "source": [
    "data.hist(column='Age',grid=False,figsize=(6,6),color= 'black',edgecolor='white',bins=15)\n",
    "\n",
    "plt.xlabel('Age',fontsize = 12)\n",
    "\n",
    "plt.ylabel('Counts',fontsize = 12)\n",
    "plt.title( 'Histogram of Age',fontsize = 16)\n",
    "plt.show()"
   ]
  },
  {
   "cell_type": "markdown",
   "metadata": {
    "id": "st_IWbO7GloQ"
   },
   "source": [
    "Our analysis shows that more than half of the Employees has an age between 25-45"
   ]
  },
  {
   "cell_type": "code",
   "execution_count": null,
   "metadata": {
    "colab": {
     "base_uri": "https://localhost:8080/",
     "height": 269
    },
    "id": "4MeZN_I3FwK7",
    "outputId": "1c7dda6b-be37-45eb-eea8-ec4d554940b9"
   },
   "outputs": [],
   "source": [
    "# Categorization done with raise in number multiplier of 2 from 18 and from 30 the raise is constant 10\n",
    "cut_Age = pd.cut(data[\"Age\"],bins=[18,20,24,30,40,50,60],include_lowest=False)\n",
    "data.groupby(cut_Age)[\"Attrition\"].value_counts(normalize=True).unstack()"
   ]
  },
  {
   "cell_type": "markdown",
   "metadata": {
    "id": "dbPOiIpGhsla"
   },
   "source": [
    "Our analysis shows that very younger employees tend more towards attrittion"
   ]
  },
  {
   "cell_type": "code",
   "execution_count": null,
   "metadata": {
    "colab": {
     "base_uri": "https://localhost:8080/",
     "height": 339
    },
    "id": "f90XawQ-hm9j",
    "outputId": "0b907afb-3e18-411c-d891-a9245aea102d"
   },
   "outputs": [],
   "source": [
    "plt.figure(figsize=(15,5))\n",
    "sns.countplot(x='Age', data = data)\n",
    "plt.title('Value count of age')\n",
    "plt.show()"
   ]
  },
  {
   "cell_type": "code",
   "execution_count": null,
   "metadata": {
    "colab": {
     "base_uri": "https://localhost:8080/",
     "height": 300
    },
    "id": "_EkGo59-GFxm",
    "outputId": "0f3f64b9-83e2-4739-86d2-71808e4b8b9a"
   },
   "outputs": [],
   "source": [
    "data[['Age']].describe()"
   ]
  },
  {
   "cell_type": "markdown",
   "metadata": {
    "id": "Z3feHDPGjfmc"
   },
   "source": [
    "our analysis shows that 35 is the most common age"
   ]
  },
  {
   "cell_type": "code",
   "execution_count": null,
   "metadata": {
    "colab": {
     "base_uri": "https://localhost:8080/",
     "height": 206
    },
    "id": "RiVgDFRphnAe",
    "outputId": "ef567a83-c848-4aae-c2e4-e99db1ea3256"
   },
   "outputs": [],
   "source": [
    "# the bins has been created by increment of 25% of the variables from the minmum to maximum\n",
    "cut_age = pd.cut(data[\"Age\"],bins=[18,30,36,43,60],include_lowest=False)\n",
    "data.groupby(cut_age)[\"Attrition\"].value_counts(normalize=True).unstack()"
   ]
  },
  {
   "cell_type": "code",
   "execution_count": null,
   "metadata": {
    "colab": {
     "base_uri": "https://localhost:8080/",
     "height": 345
    },
    "id": "9tsAbR7gI8Rx",
    "outputId": "d7fbd9da-7a20-4d85-a8c3-200f1840e0de"
   },
   "outputs": [],
   "source": [
    "# the bins has been created by increment of 25% of the variables from the minmum to maximum\n",
    "cut_age = pd.cut(data[\"Age\"],bins=[18,30,36,43,60],include_lowest=False)\n",
    "\n",
    "Table12 = pd.crosstab(index=data.Attrition,columns=cut_Age)\n",
    "coltotal12 = Table12.sum(axis=0)\n",
    "tb12 = Table12.div(coltotal12,axis = 1)\n",
    "tb12.plot.bar(rot=90)\n",
    "plt.show()\n",
    "print(tb12)\n"
   ]
  },
  {
   "cell_type": "markdown",
   "metadata": {
    "id": "Dx4cJwXHx7Go"
   },
   "source": [
    "Our analysis shows that the younger employees tend more towards attrition."
   ]
  },
  {
   "cell_type": "markdown",
   "metadata": {
    "id": "zXvsSDTF9lXq"
   },
   "source": [
    "### 4 Attrition based on Monthly Income"
   ]
  },
  {
   "cell_type": "code",
   "execution_count": null,
   "metadata": {
    "colab": {
     "base_uri": "https://localhost:8080/",
     "height": 409
    },
    "id": "YQRWO__CDFCS",
    "outputId": "d7b820bf-4e62-4c9f-9d97-6bad3b8c9da7"
   },
   "outputs": [],
   "source": [
    "data.hist(column='MonthlyIncome',grid=False,figsize=(6,6),color= 'black',edgecolor='white',bins=15)\n",
    "\n",
    "plt.xlabel('Monthly Income of Employees',fontsize = 12)\n",
    "\n",
    "plt.ylabel('Counts',fontsize = 12)\n",
    "plt.title( 'Histogram of Monthly Income',fontsize = 16)\n",
    "plt.show()"
   ]
  },
  {
   "cell_type": "code",
   "execution_count": null,
   "metadata": {
    "colab": {
     "base_uri": "https://localhost:8080/",
     "height": 206
    },
    "id": "WZeni473D0xs",
    "outputId": "6b279364-ef6f-4a52-945a-d5cf3f962292"
   },
   "outputs": [],
   "source": [
    "# Categorization on the basis of the range of 5000 from lowest monthly salary\n",
    "cut_MonthlyIncome = pd.cut(data[\"MonthlyIncome\"],bins=[1000,6000,11000,16000,21000],include_lowest=False)\n",
    "data.groupby(cut_MonthlyIncome)[\"Attrition\"].value_counts(normalize=True).unstack()"
   ]
  },
  {
   "cell_type": "code",
   "execution_count": null,
   "metadata": {
    "colab": {
     "base_uri": "https://localhost:8080/",
     "height": 383
    },
    "id": "vtqGfv-2089M",
    "outputId": "6dbbf291-f3ca-4c69-f473-9a86cf6aa753"
   },
   "outputs": [],
   "source": [
    "cut_MonthlyIncome = pd.cut(data[\"MonthlyIncome\"],bins=[1000,3000,5000,8400,20000],include_lowest=False)\n",
    "\n",
    "Table11 = pd.crosstab(cut_MonthlyIncome,columns=data.Attrition)\n",
    "coltotal11 = Table11.sum(axis=1)\n",
    "tb11 = Table11.div(coltotal11,axis = 0)\n",
    "tb11.plot.bar(rot=0)\n",
    "plt.show()\n",
    "print(tb11)\n"
   ]
  },
  {
   "cell_type": "markdown",
   "metadata": {
    "id": "_0vxgWVUEWPx"
   },
   "source": [
    "From the above analysis the attrition rate increases with the decrease in salary"
   ]
  },
  {
   "cell_type": "markdown",
   "metadata": {
    "id": "c42m1gEfDX2H"
   },
   "source": [
    "The above analysis shows that the large number of the employees are paid very low salary"
   ]
  },
  {
   "cell_type": "code",
   "execution_count": null,
   "metadata": {
    "colab": {
     "base_uri": "https://localhost:8080/",
     "height": 300
    },
    "id": "1oTmrVXY9Vp1",
    "outputId": "05a12314-dd1d-4d3c-cf78-4abc4a6ae249"
   },
   "outputs": [],
   "source": [
    "data[['MonthlyIncome']].describe()"
   ]
  },
  {
   "cell_type": "markdown",
   "metadata": {
    "id": "KukQzlLIAuj8"
   },
   "source": [
    "From above analysis we can say that the maximum salary is 19999.00 But curency unknown factor"
   ]
  },
  {
   "cell_type": "code",
   "execution_count": null,
   "metadata": {
    "colab": {
     "base_uri": "https://localhost:8080/",
     "height": 206
    },
    "id": "2aXhSeInAFVH",
    "outputId": "beccd44f-9f5d-416c-b7cb-71f579591bf6"
   },
   "outputs": [],
   "source": [
    "# Categorization on the basis of the range of 25% from lowest to heighest monthly income\n",
    "cut_MonthlyIncome = pd.cut(data[\"MonthlyIncome\"],bins=[1000,3000,5000,8500,20000],include_lowest=False)\n",
    "data.groupby(cut_MonthlyIncome)[\"Attrition\"].value_counts(normalize=True).unstack()\n"
   ]
  },
  {
   "cell_type": "markdown",
   "metadata": {
    "id": "fexO0cwrEzUC"
   },
   "source": [
    "From the above analysis the attrition rate increases with the decrease in salary"
   ]
  },
  {
   "cell_type": "markdown",
   "metadata": {
    "id": "NtY5GGq8EzXb"
   },
   "source": [
    "### 5 Attrition based on TotalWorkingYears"
   ]
  },
  {
   "cell_type": "code",
   "execution_count": null,
   "metadata": {
    "colab": {
     "base_uri": "https://localhost:8080/",
     "height": 409
    },
    "id": "syWbGzE0AFYl",
    "outputId": "15b8abd4-807f-4f64-c5ad-a6f28aad93de"
   },
   "outputs": [],
   "source": [
    "data.hist(column='TotalWorkingYears',grid=False,figsize=(6,6),color= 'black',edgecolor='white',bins=15)\n",
    "\n",
    "plt.xlabel('Total Working Years',fontsize = 12)\n",
    "\n",
    "plt.ylabel('Counts',fontsize = 12)\n",
    "plt.title( 'Histogram of Total Working Years of Employees',fontsize = 16)\n",
    "plt.show()"
   ]
  },
  {
   "cell_type": "code",
   "execution_count": null,
   "metadata": {
    "colab": {
     "base_uri": "https://localhost:8080/",
     "height": 332
    },
    "id": "UHaWCC539Vso",
    "outputId": "847bddad-9eb7-400a-a505-a89292c226c6"
   },
   "outputs": [],
   "source": [
    "# Categorization on the basis of the range of 10 from Zero with some initial values \n",
    "cut_TotalWorkingYears = pd.cut(data[\"TotalWorkingYears\"],bins=[0,1,2,3,5,10,20,30,40],include_lowest=False)\n",
    "data.groupby(cut_TotalWorkingYears)[\"Attrition\"].value_counts(normalize=True).unstack()"
   ]
  },
  {
   "cell_type": "markdown",
   "metadata": {
    "id": "AzJOqZgaD4_b"
   },
   "source": [
    "I have taken few intial values becuase more Employees tend to attrition for a better opportunities and hike in salary"
   ]
  },
  {
   "cell_type": "code",
   "execution_count": null,
   "metadata": {
    "colab": {
     "base_uri": "https://localhost:8080/",
     "height": 300
    },
    "id": "_ug0zwxI9VwK",
    "outputId": "77769c61-e928-42d4-8eea-293d42139f27"
   },
   "outputs": [],
   "source": [
    "data[['TotalWorkingYears']].describe()"
   ]
  },
  {
   "cell_type": "code",
   "execution_count": null,
   "metadata": {
    "colab": {
     "base_uri": "https://localhost:8080/",
     "height": 332
    },
    "id": "aKYuaXF4GOqG",
    "outputId": "56700f8d-727b-4d2a-96a9-99af885c0bf5"
   },
   "outputs": [],
   "source": [
    "# Categorization on the basis of the range of 25% from lowest to heighest monthly income with some initial values\n",
    "cut_TotalWorkingYears = pd.cut(data[\"TotalWorkingYears\"],bins=[0,1,2,3,5,6,10,15,40],include_lowest=False)\n",
    "data.groupby(cut_TotalWorkingYears)[\"Attrition\"].value_counts(normalize=True).unstack()"
   ]
  },
  {
   "cell_type": "markdown",
   "metadata": {
    "id": "4CBCN8xYHm3A"
   },
   "source": [
    "Above analysis shows that Attrition rate increases with low work experience"
   ]
  },
  {
   "cell_type": "markdown",
   "metadata": {
    "id": "F3uPpMdkH1PD"
   },
   "source": [
    "### 6 Attrition based on Years at the Company"
   ]
  },
  {
   "cell_type": "code",
   "execution_count": null,
   "metadata": {
    "colab": {
     "base_uri": "https://localhost:8080/",
     "height": 409
    },
    "id": "LlGg0HN5GoEc",
    "outputId": "50fa7002-aec5-46eb-f0bb-a128135dcf40"
   },
   "outputs": [],
   "source": [
    "data.hist(column='YearsAtCompany',grid=False,figsize=(6,6),color= 'black',edgecolor='white',bins=15)\n",
    "\n",
    "plt.xlabel('Total Years at company',fontsize = 12)\n",
    "\n",
    "plt.ylabel('Count',fontsize = 12)\n",
    "plt.title( 'Histogram of Total Years at Company of employees',fontsize = 16)\n",
    "plt.show()"
   ]
  },
  {
   "cell_type": "code",
   "execution_count": null,
   "metadata": {
    "colab": {
     "base_uri": "https://localhost:8080/",
     "height": 332
    },
    "id": "IOH2d1pxIDut",
    "outputId": "19c4efa6-e536-47df-e75e-bcb01ff038ad"
   },
   "outputs": [],
   "source": [
    "# Categorization on the basis of the range of 10 from lowest Zero with some intial values\n",
    "cut_YearsAtCompany = pd.cut(data[\"YearsAtCompany\"],bins=[0,1,2,3,5,10,20,30,50],include_lowest=False)\n",
    "data.groupby(cut_YearsAtCompany)[\"Attrition\"].value_counts(normalize=True).unstack()"
   ]
  },
  {
   "cell_type": "code",
   "execution_count": null,
   "metadata": {
    "colab": {
     "base_uri": "https://localhost:8080/",
     "height": 300
    },
    "id": "6OaX2CR_IDxl",
    "outputId": "a4538ba2-4bbf-4d80-e0ca-ce5bdf43b12f"
   },
   "outputs": [],
   "source": [
    "data[['TotalWorkingYears']].describe()"
   ]
  },
  {
   "cell_type": "code",
   "execution_count": null,
   "metadata": {
    "colab": {
     "base_uri": "https://localhost:8080/",
     "height": 300
    },
    "id": "bFf4L0TUID0i",
    "outputId": "9d4acc49-d498-4f62-b6d3-4f28352ec267"
   },
   "outputs": [],
   "source": [
    "# Categorization on the basis of the range of 25% from lowest to heighest monthly income with some intial values\n",
    "cut_YearsAtCompany = pd.cut(data[\"YearsAtCompany\"],bins=[0,1,2,3,5,10,15,40],include_lowest=False)\n",
    "data.groupby(cut_YearsAtCompany)[\"Attrition\"].value_counts(normalize=True).unstack()"
   ]
  },
  {
   "cell_type": "markdown",
   "metadata": {
    "id": "wCYowGsjJ-rR"
   },
   "source": [
    "Above analysis shows that the Attrition rate increases with the decrease in the total working years at the company"
   ]
  },
  {
   "cell_type": "markdown",
   "metadata": {
    "id": "ukduzL6wKRZq"
   },
   "source": [
    "### 7 Attrition based on Years in the Current Role"
   ]
  },
  {
   "cell_type": "code",
   "execution_count": null,
   "metadata": {
    "colab": {
     "base_uri": "https://localhost:8080/",
     "height": 409
    },
    "id": "aFGxuanVID3L",
    "outputId": "972504cd-f154-420c-9e87-72d1653a7a11"
   },
   "outputs": [],
   "source": [
    "data.hist(column='YearsInCurrentRole',grid=False,figsize=(6,6),color= 'black',edgecolor='white',bins=15)\n",
    "\n",
    "plt.xlabel('Total Years at the curent role',fontsize = 12)\n",
    "\n",
    "plt.ylabel('Count',fontsize = 12)\n",
    "plt.title( 'Histogram of Total Years at the curent role of employees',fontsize = 16)\n",
    "plt.show()"
   ]
  },
  {
   "cell_type": "code",
   "execution_count": null,
   "metadata": {
    "colab": {
     "base_uri": "https://localhost:8080/",
     "height": 363
    },
    "id": "vAVZNZ5cKien",
    "outputId": "c632774e-859a-408e-926f-cc93298fc24b"
   },
   "outputs": [],
   "source": [
    "# Categorization on the basis of the range of 2 from zero to maximum value\n",
    "cut_YearsInCurrentRole = pd.cut(data[\"YearsInCurrentRole\"],bins=[0,2,4,6,8,10,12,14,16,18],include_lowest=False)\n",
    "data.groupby(cut_YearsInCurrentRole)[\"Attrition\"].value_counts(normalize=True).unstack()"
   ]
  },
  {
   "cell_type": "code",
   "execution_count": null,
   "metadata": {
    "colab": {
     "base_uri": "https://localhost:8080/",
     "height": 300
    },
    "id": "2rna87ywKihi",
    "outputId": "b02ce15f-13a1-4570-9274-d3ffdfb07738"
   },
   "outputs": [],
   "source": [
    "data[['YearsInCurrentRole']].describe()"
   ]
  },
  {
   "cell_type": "code",
   "execution_count": null,
   "metadata": {
    "colab": {
     "base_uri": "https://localhost:8080/",
     "height": 206
    },
    "id": "qHghI66bKikU",
    "outputId": "13044fcb-0631-427b-ad87-1b65670a6879"
   },
   "outputs": [],
   "source": [
    "# Categorization on the basis of the range of 25% from lowest to heighest YearsInCurrentRole\n",
    "cut_YearsInCurrentRole = pd.cut(data[\"YearsInCurrentRole\"],bins=[0,2,3,7,18],include_lowest=False)\n",
    "data.groupby(cut_YearsInCurrentRole)[\"Attrition\"].value_counts(normalize=True).unstack()"
   ]
  },
  {
   "cell_type": "markdown",
   "metadata": {
    "id": "JV2CQ3tHMfpl"
   },
   "source": [
    "Above analysis shows that the attrition is high in employees with lowest time period in there current role"
   ]
  },
  {
   "cell_type": "markdown",
   "metadata": {
    "id": "fEC1mh6YMgP0"
   },
   "source": [
    "### 8 Attrition based on Years Since Last Promotion"
   ]
  },
  {
   "cell_type": "code",
   "execution_count": null,
   "metadata": {
    "colab": {
     "base_uri": "https://localhost:8080/",
     "height": 409
    },
    "id": "OJA9uk9LKinh",
    "outputId": "8cc682c1-5b2b-46d8-89fc-50f0fa6d6fbc"
   },
   "outputs": [],
   "source": [
    "data.hist(column='YearsSinceLastPromotion',grid=False,figsize=(6,6),color= 'black',edgecolor='white',bins=15)\n",
    "\n",
    "plt.xlabel('Total Years Since Last Promotion',fontsize = 12)\n",
    "\n",
    "plt.ylabel('Count',fontsize = 12)\n",
    "plt.title( 'Histogram of Total Years Since Last Promotion of employees',fontsize = 16)\n",
    "plt.show()"
   ]
  },
  {
   "cell_type": "code",
   "execution_count": null,
   "metadata": {
    "colab": {
     "base_uri": "https://localhost:8080/",
     "height": 332
    },
    "id": "MDbs8fyBID6h",
    "outputId": "75d8ad75-9793-454e-bebd-fed35deb3ff3"
   },
   "outputs": [],
   "source": [
    "# Categorization on the basis of the range of 2 from zero to maximum value\n",
    "cut_YearsSinceLastPromotion = pd.cut(data[\"YearsSinceLastPromotion\"],bins=[0,2,4,6,8,10,12,14,16],include_lowest=False)\n",
    "data.groupby(cut_YearsSinceLastPromotion)[\"Attrition\"].value_counts(normalize=True).unstack()"
   ]
  },
  {
   "cell_type": "markdown",
   "metadata": {
    "id": "zbIlcnJ__xon"
   },
   "source": [
    "Above analysis shows that there is no particular corelation between attrition and time period between Promotion"
   ]
  },
  {
   "cell_type": "code",
   "execution_count": null,
   "metadata": {
    "colab": {
     "base_uri": "https://localhost:8080/",
     "height": 300
    },
    "id": "u83Vmvmw-B2l",
    "outputId": "17b84d2f-f81c-4889-9353-7e7288ce3ac0"
   },
   "outputs": [],
   "source": [
    "data[['YearsSinceLastPromotion']].describe()"
   ]
  },
  {
   "cell_type": "code",
   "execution_count": null,
   "metadata": {
    "colab": {
     "base_uri": "https://localhost:8080/",
     "height": 175
    },
    "id": "B8dBJuyX-B5j",
    "outputId": "ed744e6a-ab47-4cb4-9066-5c31098d6899"
   },
   "outputs": [],
   "source": [
    "# Categorization on the basis of the range of 25% from lowest to heighest YearsInCurrentRole\n",
    "cut_YearsSinceLastPromotion = pd.cut(data[\"YearsSinceLastPromotion\"],bins=[0,1,3,15],include_lowest=False)\n",
    "data.groupby(cut_YearsSinceLastPromotion)[\"Attrition\"].value_counts(normalize=True).unstack()"
   ]
  },
  {
   "cell_type": "code",
   "execution_count": null,
   "metadata": {
    "colab": {
     "base_uri": "https://localhost:8080/",
     "height": 366
    },
    "id": "nNeTNhSu3r77",
    "outputId": "a36addb5-2189-481d-9021-f19e416c4d5c"
   },
   "outputs": [],
   "source": [
    "cut_YearsSinceLastPromotion = pd.cut(data[\"YearsSinceLastPromotion\"],bins=[0,1,3,15],include_lowest=False)\n",
    "\n",
    "Table11 = pd.crosstab(cut_YearsSinceLastPromotion,columns=data.Attrition)\n",
    "coltotal11 = Table11.sum(axis=1)\n",
    "tb11 = Table11.div(coltotal11,axis = 0)\n",
    "tb11.plot.bar(rot=0)\n",
    "plt.show()\n",
    "print(tb11)\n"
   ]
  },
  {
   "cell_type": "markdown",
   "metadata": {
    "id": "sQhxzGcrAUhU"
   },
   "source": [
    "Above analysis shows that the attrition is more in between time period of 1-3 from years since last promotion and by this we can conclude that the employees are more volatile in terms of attrition if they don't get promoted"
   ]
  },
  {
   "cell_type": "markdown",
   "metadata": {
    "id": "hT_mkYDEGPbW"
   },
   "source": [
    "### 9 Attrition based on years with current manager"
   ]
  },
  {
   "cell_type": "code",
   "execution_count": null,
   "metadata": {
    "colab": {
     "base_uri": "https://localhost:8080/",
     "height": 300
    },
    "id": "Lq1JRs_2GfbL",
    "outputId": "f5a308e0-56ec-49b9-8abb-71a19d8570fc"
   },
   "outputs": [],
   "source": [
    "data[['YearsWithCurrManager']].describe()"
   ]
  },
  {
   "cell_type": "code",
   "execution_count": null,
   "metadata": {
    "colab": {
     "base_uri": "https://localhost:8080/",
     "height": 206
    },
    "id": "zjhMjjXZGgbg",
    "outputId": "90387306-74ed-4f82-adca-edcb1cd215da"
   },
   "outputs": [],
   "source": [
    "# Categorization on the basis of the range of 25% from lowest to heighest YearsInCurrentRole\n",
    "cut_YearsWithCurrManager = pd.cut(data[\"YearsWithCurrManager\"],bins=[0,2,3,7,17],include_lowest=False)\n",
    "data.groupby(cut_YearsWithCurrManager)[\"Attrition\"].value_counts(normalize=True).unstack()"
   ]
  },
  {
   "cell_type": "markdown",
   "metadata": {
    "id": "4s10Dk86HJhi"
   },
   "source": [
    "Above analysis shows that there is not much of a relation between attrition and YearsWithCurrManager"
   ]
  },
  {
   "cell_type": "code",
   "execution_count": null,
   "metadata": {
    "id": "uHRzdjq7Gge8"
   },
   "outputs": [],
   "source": []
  },
  {
   "cell_type": "code",
   "execution_count": null,
   "metadata": {
    "id": "liBjA07iGfee"
   },
   "outputs": [],
   "source": []
  },
  {
   "cell_type": "markdown",
   "metadata": {
    "id": "VcSLrRa9Apu-"
   },
   "source": [
    "### 10 Attrition based on Distance From Home"
   ]
  },
  {
   "cell_type": "code",
   "execution_count": null,
   "metadata": {
    "colab": {
     "base_uri": "https://localhost:8080/",
     "height": 409
    },
    "id": "xy97C9Vy-B8e",
    "outputId": "99d7706f-fc98-4903-cd04-d80bd453ac5c"
   },
   "outputs": [],
   "source": [
    "data.hist(column='DistanceFromHome',grid=False,figsize=(6,6),color= 'black',edgecolor='white',bins=15)\n",
    "\n",
    "plt.xlabel('Total Distance From Home',fontsize = 12)\n",
    "\n",
    "plt.ylabel('Count',fontsize = 12)\n",
    "plt.title( 'Histogram of Total Distance From Home of employees',fontsize = 16)\n",
    "plt.show()"
   ]
  },
  {
   "cell_type": "code",
   "execution_count": null,
   "metadata": {
    "colab": {
     "base_uri": "https://localhost:8080/",
     "height": 269
    },
    "id": "faqBZeCn-B_a",
    "outputId": "d36a2123-2f30-47bd-c384-565dff91596e"
   },
   "outputs": [],
   "source": [
    "# Categorization on the basis of the range of 5 from zero to maximum value\n",
    "cut_DistanceFromHome = pd.cut(data[\"DistanceFromHome\"],bins=[0,5,10,15,20,25,30],include_lowest=False)\n",
    "data.groupby(cut_DistanceFromHome)[\"Attrition\"].value_counts(normalize=True).unstack()"
   ]
  },
  {
   "cell_type": "markdown",
   "metadata": {
    "id": "K8Bzoe-8C8AR"
   },
   "source": [
    "Above analysis shows that there is no particular corelation between attrition and distance between home and workplace"
   ]
  },
  {
   "cell_type": "code",
   "execution_count": null,
   "metadata": {
    "colab": {
     "base_uri": "https://localhost:8080/",
     "height": 300
    },
    "id": "NPjPo3jM-CCj",
    "outputId": "ba649463-e816-424a-ae7d-ce8cd202b22f"
   },
   "outputs": [],
   "source": [
    "data[['DistanceFromHome']].describe()"
   ]
  },
  {
   "cell_type": "code",
   "execution_count": null,
   "metadata": {
    "colab": {
     "base_uri": "https://localhost:8080/",
     "height": 206
    },
    "id": "tapWLUmZ-CF_",
    "outputId": "517fd3c9-77ab-4e48-80a5-5b0a82ba790f"
   },
   "outputs": [],
   "source": [
    "# Categorization on the basis of the range of 25% from lowest to heighest YearsInCurrentRole\n",
    "cut_DistanceFromHome = pd.cut(data[\"DistanceFromHome\"],bins=[1,2,7,14,29],include_lowest=False)\n",
    "data.groupby(cut_DistanceFromHome)[\"Attrition\"].value_counts(normalize=True).unstack()"
   ]
  },
  {
   "cell_type": "markdown",
   "metadata": {
    "id": "q_n5cSIEDNmG"
   },
   "source": [
    "Above analysis shows that there is no particular corelation between attrition and distance between home and workplace"
   ]
  },
  {
   "cell_type": "markdown",
   "metadata": {
    "id": "jH1Q4lhHE221"
   },
   "source": [
    "## 3 Corelation Between the variables"
   ]
  },
  {
   "cell_type": "code",
   "execution_count": null,
   "metadata": {
    "colab": {
     "base_uri": "https://localhost:8080/",
     "height": 508
    },
    "id": "-duqwKp1BYa1",
    "outputId": "6dc8dbcb-fb42-4430-dd9f-e662e31d2b6b"
   },
   "outputs": [],
   "source": [
    "corr = data.corr()\n",
    "corr.style.background_gradient()"
   ]
  },
  {
   "cell_type": "markdown",
   "metadata": {},
   "source": [
    "**Observation**\n",
    "\n",
    "* We see a high degree of correlation between \n",
    "  1. Job Level Score and Monthly Income\n",
    "  2. Job Level and Total Working years\n",
    "  3. Monthly income  and Total Working Years \n",
    "\n"
   ]
  },
  {
   "cell_type": "code",
   "execution_count": null,
   "metadata": {
    "colab": {
     "base_uri": "https://localhost:8080/"
    },
    "id": "igvBoHePTRNF",
    "outputId": "dd6c5db2-8855-49c3-d349-a99dd1365769"
   },
   "outputs": [],
   "source": [
    "# Filter the highest correlation pairs and sort in descending order\n",
    "stacked_data = data.corr().stack().sort_values(ascending=False)\n",
    "stacked_data[(stacked_data > 0.7) & (stacked_data < 1)]"
   ]
  },
  {
   "cell_type": "markdown",
   "metadata": {
    "id": "hnBVs6JeE0tZ"
   },
   "source": [
    "## 4 Multivarient Analysis"
   ]
  },
  {
   "cell_type": "markdown",
   "metadata": {
    "id": "wLMhCkdGqKB9"
   },
   "source": [
    "### 1 Atttriton based on relation betwwen the categorical variables"
   ]
  },
  {
   "cell_type": "code",
   "execution_count": null,
   "metadata": {
    "colab": {
     "base_uri": "https://localhost:8080/",
     "height": 1000
    },
    "id": "YMmGkXPSny_H",
    "outputId": "7e733bae-efc6-4724-f066-4e62e94e0e43"
   },
   "outputs": [],
   "source": [
    "count = 1\n",
    "for i in range(len(list1)):\n",
    "  for j in range(i+1,len(list1)):\n",
    "    tab = pd.crosstab(data.Attrition,columns=[data[list1[i]],data[list1[j]]])\n",
    "    col_1 = tab.sum(axis=0)\n",
    "    col_2 = tab.div(col_1,axis=1)\n",
    "    col_2.plot.bar()\n",
    "    print(\"\\n\")\n",
    "    print(count,\">--------------------------Attrition\",\"vs\",list1[i] , \"vs\", list1[j],\"------------\")\n",
    "    plt.show()\n",
    "    print(col_2)\n",
    "    count+=1\n"
   ]
  },
  {
   "cell_type": "markdown",
   "metadata": {
    "id": "Du1b5DtNJtoA"
   },
   "source": [
    "### 2 Attrition based with the ralation between Age and Monthly Salary"
   ]
  },
  {
   "cell_type": "code",
   "execution_count": null,
   "metadata": {
    "colab": {
     "base_uri": "https://localhost:8080/",
     "height": 467
    },
    "id": "4YedaVtvEtW6",
    "outputId": "ff67b019-d6c6-4ff5-cd87-3c7d97c5987a"
   },
   "outputs": [],
   "source": [
    "cut_MonthlySalary = pd.cut(data[\"MonthlyIncome\"],bins=[1009,2911,4919,8379,20000],include_lowest=False)\n",
    "cut_Age = pd.cut(data[\"Age\"],bins=[18,31,37,44,60],include_lowest=False)\n",
    "Tab2 = pd.crosstab(data.Attrition,columns=[data.Gender,cut_MonthlySalary])\n",
    "col_tot2 = Tab2.sum(axis=0)\n",
    "Tb2 = Tab2.div(col_tot2,axis = 1)\n",
    "Tb2.plot.bar()\n",
    "plt.show()\n",
    "print(Tb2)"
   ]
  },
  {
   "cell_type": "markdown",
   "metadata": {
    "id": "vvAY9Cv8LL50"
   },
   "source": [
    "Our analysis shows that the the employees with less monthly salary accross the age groups tend more towards attrition but the younger workforce with low salary has most attrition rate at 37%  "
   ]
  },
  {
   "cell_type": "markdown",
   "metadata": {
    "id": "4q_xXGxKnrA4"
   },
   "source": [
    "### 3 Attrition based on relation between Joblevel and monthly income"
   ]
  },
  {
   "cell_type": "code",
   "execution_count": null,
   "metadata": {
    "colab": {
     "base_uri": "https://localhost:8080/",
     "height": 575
    },
    "id": "YiEFirEGBt0a",
    "outputId": "5f89c2d9-35fc-45a8-f9a9-3faf31d93917"
   },
   "outputs": [],
   "source": [
    "cut_MonthlyIncome = pd.cut(data[\"MonthlyIncome\"],bins=[1000,3000,5000,8500,20000],include_lowest=False)\n",
    "Tab7 = pd.crosstab(data.Attrition,columns=[data.JobLevel,cut_MonthlyIncome])\n",
    "col_tot7 = Tab7.sum(axis=0)\n",
    "Tb7 = Tab7.div(col_tot7,axis = 1)\n",
    "Tb7.plot.bar()\n",
    "plt.show()\n",
    "print(Tb7)"
   ]
  },
  {
   "cell_type": "markdown",
   "metadata": {
    "id": "Y-FP37JIosfB"
   },
   "source": [
    "our analysis shows that employees with lower job level and lower Salary tend more towards attrition"
   ]
  },
  {
   "cell_type": "markdown",
   "metadata": {
    "id": "lNDWFqHCqUgY"
   },
   "source": [
    "### 4 Attrition based on the relation between Total work years and job satisfaction"
   ]
  },
  {
   "cell_type": "code",
   "execution_count": null,
   "metadata": {
    "colab": {
     "base_uri": "https://localhost:8080/",
     "height": 592
    },
    "id": "ujAtSUNQpGbo",
    "outputId": "1901c591-6bad-4c01-ce1d-23854330f884"
   },
   "outputs": [],
   "source": [
    "cut_TotalWorkingYears = pd.cut(data[\"TotalWorkingYears\"],bins=[0,6,10,15,40],include_lowest=False)\n",
    "\n",
    "Tab10 = pd.crosstab(data.Attrition,columns=[data.JobSatisfaction,cut_TotalWorkingYears])\n",
    "col_tot10 = Tab10.sum(axis=0)\n",
    "Tb10 = Tab10.div(col_tot10,axis = 1)\n",
    "Tb10.plot.bar()\n",
    "plt.show()\n",
    "print(Tb10)"
   ]
  },
  {
   "cell_type": "markdown",
   "metadata": {
    "id": "YzZtaxbAr2SW"
   },
   "source": [
    "our analysis shows that the lower the job satisfaction and lower is the total working years then the employees tend more to attrition"
   ]
  },
  {
   "cell_type": "markdown",
   "metadata": {
    "id": "nWISLmPxvDvb"
   },
   "source": [
    "### 5 Attrition based on the relation between Years at company and job level"
   ]
  },
  {
   "cell_type": "code",
   "execution_count": null,
   "metadata": {
    "colab": {
     "base_uri": "https://localhost:8080/",
     "height": 780
    },
    "id": "5ize_QXSu-8n",
    "outputId": "3e1451ab-5c0e-4c43-a8f5-d542430a8b7b"
   },
   "outputs": [],
   "source": [
    "cut_YearsAtCompany = pd.cut(data[\"YearsAtCompany\"],bins=[0,6,10,15,40],include_lowest=False)\n",
    "\n",
    "Tab15 = pd.crosstab(data.Attrition,columns=[data.JobLevel,cut_YearsAtCompany])\n",
    "col_tot15 = Tab15.sum(axis=0)\n",
    "Tb15 = Tab15.div(col_tot15,axis = 1)\n",
    "Tb15.plot.bar()\n",
    "plt.show()\n",
    "print(Tb15)"
   ]
  },
  {
   "cell_type": "markdown",
   "metadata": {
    "id": "Y2m2blOOx27d"
   },
   "source": [
    "Our analysis shows that the employees with lower time period of the years at company and lower the job level tend more towards attrition "
   ]
  },
  {
   "cell_type": "markdown",
   "metadata": {
    "id": "A-37Nlupx2-3"
   },
   "source": [
    "### 6 Attrition based on the relation between Years At Current Role and job Satisfaction"
   ]
  },
  {
   "cell_type": "code",
   "execution_count": null,
   "metadata": {
    "colab": {
     "base_uri": "https://localhost:8080/",
     "height": 589
    },
    "id": "HRVz_-cxxy8P",
    "outputId": "d9aa7114-f088-4246-af64-e757b382cd09"
   },
   "outputs": [],
   "source": [
    "cut_YearsInCurrentRole = pd.cut(data[\"YearsInCurrentRole\"],bins=[0,2,3,7,18],include_lowest=False)\n",
    "\n",
    "Tab16 = pd.crosstab(data.Attrition,columns=[data.JobSatisfaction,cut_YearsInCurrentRole])\n",
    "col_tot16 = Tab16.sum(axis=0)\n",
    "Tb16 = Tab16.div(col_tot16,axis = 1)\n",
    "Tb16.plot.bar()\n",
    "plt.show()\n",
    "print(Tb16)"
   ]
  },
  {
   "cell_type": "markdown",
   "metadata": {
    "id": "wdbnhs0PzIu3"
   },
   "source": [
    "Our analysis shows that the employees with lower time period of the years at company and lower the job Satisfaction tend more towards attrition "
   ]
  },
  {
   "cell_type": "markdown",
   "metadata": {
    "id": "RXlGIzjszIyX"
   },
   "source": [
    "### 7 Attrition based on the relation between Years since promotion and Years at company"
   ]
  },
  {
   "cell_type": "code",
   "execution_count": null,
   "metadata": {
    "colab": {
     "base_uri": "https://localhost:8080/",
     "height": 571
    },
    "id": "8aY-SBeFzGAw",
    "outputId": "09a82629-00bd-4fc7-903f-ab493fb49f12"
   },
   "outputs": [],
   "source": [
    "cut_YearsAtCompany = pd.cut(data[\"YearsAtCompany\"],bins=[0,6,10,15,40],include_lowest=False)\n",
    "cut_YearsSinceLastPromotion = pd.cut(data[\"YearsSinceLastPromotion\"],bins=[0,1,3,15],include_lowest=False)\n",
    "\n",
    "Tab17 = pd.crosstab(data.Attrition,columns=[cut_YearsSinceLastPromotion,cut_YearsAtCompany])\n",
    "col_tot17 = Tab17.sum(axis=0)\n",
    "Tb17 = Tab17.div(col_tot17,axis = 1)\n",
    "Tb17.plot.bar()\n",
    "plt.show()\n",
    "print(Tb17)"
   ]
  },
  {
   "cell_type": "markdown",
   "metadata": {
    "id": "M3A6mQaE0u6F"
   },
   "source": [
    "Our analysis shows that the employees with lower time period of the years at company and lower time period of 1-3 years since promotion tend more towards attrition"
   ]
  },
  {
   "cell_type": "markdown",
   "metadata": {
    "id": "yYZLJ4xs0u9r"
   },
   "source": [
    "### 8 Attrition based on the relation between Years with manager and Years in current role "
   ]
  },
  {
   "cell_type": "code",
   "execution_count": null,
   "metadata": {
    "colab": {
     "base_uri": "https://localhost:8080/",
     "height": 616
    },
    "id": "xD-zMdaX0sNS",
    "outputId": "5d023524-0567-498f-8b48-3b1e6bcbdec1"
   },
   "outputs": [],
   "source": [
    "cut_YearsWithCurrManager = pd.cut(data[\"YearsWithCurrManager\"],bins=[0,2,3,7,17],include_lowest=False)\n",
    "cut_YearsInCurrentRole = pd.cut(data[\"YearsInCurrentRole\"],bins=[0,2,3,7,18],include_lowest=False)\n",
    "\n",
    "Tab18 = pd.crosstab(data.Attrition,columns=[cut_YearsWithCurrManager,cut_YearsInCurrentRole])\n",
    "col_tot18 = Tab18.sum(axis=0)\n",
    "Tb18 = Tab18.div(col_tot18,axis = 1)\n",
    "Tb18.plot.bar()\n",
    "plt.show()\n",
    "print(Tb18)"
   ]
  },
  {
   "cell_type": "markdown",
   "metadata": {
    "id": "5j2d9yRgOH-x"
   },
   "source": [
    "Our analysis shows no particular trend "
   ]
  },
  {
   "cell_type": "markdown",
   "metadata": {
    "id": "KVtXgQh-OICH"
   },
   "source": [
    "### 9 Attrition based on the relation between Distance from home and WorkLifeBalance\n"
   ]
  },
  {
   "cell_type": "code",
   "execution_count": null,
   "metadata": {
    "colab": {
     "base_uri": "https://localhost:8080/",
     "height": 589
    },
    "id": "L9H1xFu7Dj9L",
    "outputId": "203fc981-f7ce-42fd-e757-b3b1de468ae2"
   },
   "outputs": [],
   "source": [
    "cut_DistanceFromHome = pd.cut(data[\"DistanceFromHome\"],bins=[1,2,7,14,29],include_lowest=False)\n",
    "\n",
    "Tab19 = pd.crosstab(data.Attrition,columns=[data.WorkLifeBalance,cut_DistanceFromHome])\n",
    "col_tot19 = Tab19.sum(axis=0)\n",
    "Tb19 = Tab19.div(col_tot19,axis = 1)\n",
    "Tb19.plot.bar()\n",
    "plt.show()\n",
    "print(Tb19)"
   ]
  },
  {
   "cell_type": "markdown",
   "metadata": {
    "id": "ixSvKCFxY0bU"
   },
   "source": [
    "Our analysis shows that the employees withlower the work life balance and heigher the distance from home has more attrition rate"
   ]
  },
  {
   "cell_type": "markdown",
   "metadata": {
    "id": "KVpEbESd5NXN"
   },
   "source": [
    "### 10 Attrition based on the relation between total work yrs and job level\n",
    " "
   ]
  },
  {
   "cell_type": "code",
   "execution_count": null,
   "metadata": {
    "colab": {
     "base_uri": "https://localhost:8080/",
     "height": 601
    },
    "id": "xFBTx3g0DkDp",
    "outputId": "bf3a9a00-1dcc-47e5-d34f-76c7941c6b59"
   },
   "outputs": [],
   "source": [
    "cut_TotalWorkingYears = pd.cut(data[\"TotalWorkingYears\"],bins=[0,6,10,15,40],include_lowest=False)\n",
    "\n",
    "Tab25 = pd.crosstab(data.Attrition,columns=[data.JobLevel,cut_TotalWorkingYears])\n",
    "col_tot25 = Tab25.sum(axis=0)\n",
    "Tb25 = Tab25.div(col_tot25,axis = 1)\n",
    "Tb25.plot.bar()\n",
    "plt.show()\n",
    "print(Tb25)"
   ]
  },
  {
   "cell_type": "markdown",
   "metadata": {
    "id": "wNEQCxo15_9P"
   },
   "source": [
    "Our analysis shows that the employees with lower job level and lower time period of total working years tend more towards attrition"
   ]
  },
  {
   "cell_type": "markdown",
   "metadata": {
    "id": "P_V8Fofx6AAh"
   },
   "source": [
    "### 11 Attrition based on the relation between years with manager and years at company\n"
   ]
  },
  {
   "cell_type": "code",
   "execution_count": null,
   "metadata": {
    "colab": {
     "base_uri": "https://localhost:8080/",
     "height": 725
    },
    "id": "Vqz6msgyhZQv",
    "outputId": "ef47ad32-ec20-41bf-91af-2a30c6c4a1a5"
   },
   "outputs": [],
   "source": [
    "cut_YearsWithCurrManager = pd.cut(data[\"YearsWithCurrManager\"],bins=[0,2,3,7,17],include_lowest=False)\n",
    "cut_YearsAtCompany = pd.cut(data[\"YearsAtCompany\"],bins=[0,6,10,15,40],include_lowest=False)\n",
    "\n",
    "Tab26 = pd.crosstab(data.Attrition,columns=[cut_YearsWithCurrManager,cut_YearsAtCompany])\n",
    "col_tot26 = Tab26.sum(axis=0)\n",
    "Tb26 = Tab26.div(col_tot26,axis = 1)\n",
    "Tb26.plot.bar()\n",
    "plt.show()\n",
    "print(Tb26)"
   ]
  },
  {
   "cell_type": "markdown",
   "metadata": {
    "id": "aGLuvyOn8XOK"
   },
   "source": [
    "Our analysis shows that there is no particular trend"
   ]
  },
  {
   "cell_type": "markdown",
   "metadata": {
    "id": "q001FkBQok-r"
   },
   "source": [
    "### 12 Attriton based on relation between age and job level"
   ]
  },
  {
   "cell_type": "code",
   "execution_count": null,
   "metadata": {
    "colab": {
     "base_uri": "https://localhost:8080/",
     "height": 741
    },
    "id": "x6st8hmOsCrO",
    "outputId": "67a398f2-9e1b-4fb8-8efe-5a81b3d4e631"
   },
   "outputs": [],
   "source": [
    "cut_Age = pd.cut(data[\"Age\"],bins=[18,20,24,30,40,50,60],include_lowest=False)\n",
    "\n",
    "Tab27 = pd.crosstab(data.Attrition,columns=[data.JobLevel,cut_Age])\n",
    "col_tot27 = Tab27.sum(axis=0)\n",
    "Tb27 = Tab27.div(col_tot27,axis = 1)\n",
    "Tb27.plot.bar()\n",
    "plt.show()\n",
    "print(Tb27)"
   ]
  },
  {
   "cell_type": "markdown",
   "metadata": {
    "id": "ZLi4EGC5oRPZ"
   },
   "source": []
  },
  {
   "cell_type": "markdown",
   "metadata": {
    "id": "LYL7TLLyoRS4"
   },
   "source": [
    "### 13 Attrition based on the realtion based on Job involvement and years with current manager"
   ]
  },
  {
   "cell_type": "code",
   "execution_count": null,
   "metadata": {
    "colab": {
     "base_uri": "https://localhost:8080/",
     "height": 697
    },
    "id": "pctGvJjDd_0g",
    "outputId": "c55c7422-be80-43e6-d7b0-8fbe84bd59fb"
   },
   "outputs": [],
   "source": [
    "cut_YearsWithCurrManager = pd.cut(data[\"YearsWithCurrManager\"],bins=[0,2,3,7,17],include_lowest=False)\n",
    "\n",
    "Tab28 = pd.crosstab(data.Attrition,columns=[data.JobInvolvement,cut_YearsWithCurrManager])\n",
    "col_tot28 = Tab28.sum(axis=0)\n",
    "Tb28 = Tab28.div(col_tot28,axis = 1)\n",
    "Tb28.plot.bar()\n",
    "plt.show()\n",
    "print(Tb28)"
   ]
  },
  {
   "cell_type": "markdown",
   "metadata": {
    "id": "tXH4Nh595Xmm"
   },
   "source": [
    "### 14 Attrition based on the relation between job involvement and years since promotion"
   ]
  },
  {
   "cell_type": "code",
   "execution_count": null,
   "metadata": {
    "colab": {
     "base_uri": "https://localhost:8080/",
     "height": 592
    },
    "id": "LOxDfjTDeAAk",
    "outputId": "62c61467-c6b5-40bb-f4a6-9f16c0fc5c82"
   },
   "outputs": [],
   "source": [
    "cut_YearsSinceLastPromotion = pd.cut(data[\"YearsSinceLastPromotion\"],bins=[0,1,3,15],include_lowest=False)\n",
    "cut_YearsWithCurrManager = pd.cut(data[\"YearsWithCurrManager\"],bins=[0,2,3,7,17],include_lowest=False)\n",
    "cut_YearsAtCompany = pd.cut(data[\"YearsAtCompany\"],bins=[0,6,10,15,40],include_lowest=False)\n",
    "cut_YearsInCurrentRole = pd.cut(data[\"YearsInCurrentRole\"],bins=[0,2,3,7,18],include_lowest=False)\n",
    "\n",
    "Tab29 = pd.crosstab([cut_YearsInCurrentRole,cut_YearsSinceLastPromotion],columns=data.Attrition)\n",
    "col_tot29 = Tab29.sum(axis=1)\n",
    "Tb29 = Tab29.div(col_tot29,axis = 0)\n",
    "Tb29.plot.bar()\n",
    "plt.show()\n",
    "print(Tb29)"
   ]
  },
  {
   "cell_type": "code",
   "execution_count": null,
   "metadata": {
    "id": "v_EGs2lO5WDi"
   },
   "outputs": [],
   "source": []
  },
  {
   "cell_type": "markdown",
   "metadata": {
    "id": "hvnJ9Ji-3-A3"
   },
   "source": [
    "# Analysis of report"
   ]
  },
  {
   "cell_type": "markdown",
   "metadata": {
    "id": "fWKaDPaiQvem"
   },
   "source": [
    "Age is a contributing factor in the attrition rate. Younger employees under 30 have higher attrition rate. \n",
    "\n",
    "Higher employee travel frequency is also contributing to the attrition rate.\n",
    "Overtime is one of the main factors contributing to attrition.\n",
    "\n",
    "HR Department followed by Sales shows more attrition.\n",
    "\n",
    "Lower environment satisfaction combined with lower job involvement contributes significantly to attrition rates.\n",
    "\n",
    "The employees are more volatile in terms of attrition if they don't get promoted.\n",
    "\n",
    "Lower monthly income contributes to attrition rate slightly.\n"
   ]
  },
  {
   "cell_type": "markdown",
   "metadata": {},
   "source": [
    "# Decision Tree Module (Classifier)"
   ]
  },
  {
   "cell_type": "code",
   "execution_count": null,
   "metadata": {
    "id": "UZj9q95Fnq0a"
   },
   "outputs": [],
   "source": [
    "import numpy as np\n",
    "import pandas as pd\n",
    "import matplotlib.pyplot as plt\n",
    "from sklearn.model_selection import train_test_split\n",
    "# for importing tree\n",
    "from sklearn import tree"
   ]
  },
  {
   "cell_type": "code",
   "execution_count": 2,
   "metadata": {},
   "outputs": [
    {
     "data": {
      "text/plain": [
       "['BusinessTravel',\n",
       " 'Department',\n",
       " 'EducationField',\n",
       " 'Gender',\n",
       " 'MaritalStatus',\n",
       " 'OverTime']"
      ]
     },
     "execution_count": 2,
     "metadata": {},
     "output_type": "execute_result"
    }
   ],
   "source": [
    "# Checking for feature with non-numerical values:\n",
    "\n",
    "from pandas.api.types import is_numeric_dtype\n",
    "l1=[]\n",
    "company_col = list(data.columns)\n",
    "for col in company_col:\n",
    "    if is_numeric_dtype(data[col])== False:\n",
    "        l1.append(col)\n",
    "l1        "
   ]
  },
  {
   "cell_type": "code",
   "execution_count": 3,
   "metadata": {
    "colab": {
     "base_uri": "https://localhost:8080/"
    },
    "id": "9f2hSjA60wPt",
    "outputId": "0b68bf2d-0cbe-4645-d70b-cadbc67f1cea"
   },
   "outputs": [
    {
     "data": {
      "text/plain": [
       "array(['Travel_Rarely', 'Travel_Frequently', 'Non-Travel'], dtype=object)"
      ]
     },
     "execution_count": 3,
     "metadata": {},
     "output_type": "execute_result"
    }
   ],
   "source": [
    "data['BusinessTravel'].unique()"
   ]
  },
  {
   "cell_type": "code",
   "execution_count": 4,
   "metadata": {
    "colab": {
     "base_uri": "https://localhost:8080/"
    },
    "id": "N1SoJYM40wS0",
    "outputId": "98f78938-a0dd-4ab4-bfc1-43df87dc22b3"
   },
   "outputs": [
    {
     "data": {
      "text/plain": [
       "array(['Sales', 'Research & Development', 'Human Resources'], dtype=object)"
      ]
     },
     "execution_count": 4,
     "metadata": {},
     "output_type": "execute_result"
    }
   ],
   "source": [
    "data['Department'].unique()"
   ]
  },
  {
   "cell_type": "code",
   "execution_count": 5,
   "metadata": {
    "colab": {
     "base_uri": "https://localhost:8080/"
    },
    "id": "q53zQdlD0wWJ",
    "outputId": "e1962cf7-c1a3-4532-d4dc-22edd8bc874f"
   },
   "outputs": [
    {
     "data": {
      "text/plain": [
       "array(['Life Sciences', 'Other', 'Medical', 'Marketing',\n",
       "       'Technical Degree', 'Human Resources'], dtype=object)"
      ]
     },
     "execution_count": 5,
     "metadata": {},
     "output_type": "execute_result"
    }
   ],
   "source": [
    "data['EducationField'].unique()"
   ]
  },
  {
   "cell_type": "code",
   "execution_count": 6,
   "metadata": {
    "colab": {
     "base_uri": "https://localhost:8080/"
    },
    "id": "p0I2eycm1KIu",
    "outputId": "a35872fb-38fa-4652-96a3-e663548a701d"
   },
   "outputs": [
    {
     "data": {
      "text/plain": [
       "array(['Female', 'Male'], dtype=object)"
      ]
     },
     "execution_count": 6,
     "metadata": {},
     "output_type": "execute_result"
    }
   ],
   "source": [
    "data['Gender'].unique()"
   ]
  },
  {
   "cell_type": "code",
   "execution_count": 7,
   "metadata": {},
   "outputs": [
    {
     "data": {
      "text/plain": [
       "Male      882\n",
       "Female    588\n",
       "Name: Gender, dtype: int64"
      ]
     },
     "execution_count": 7,
     "metadata": {},
     "output_type": "execute_result"
    }
   ],
   "source": [
    "data['Gender'].value_counts()"
   ]
  },
  {
   "cell_type": "code",
   "execution_count": 11,
   "metadata": {},
   "outputs": [],
   "source": [
    "data['Gender'] = data['Gender'].apply(lambda x: 0 if x == 'Male' else 1)"
   ]
  },
  {
   "cell_type": "code",
   "execution_count": 12,
   "metadata": {},
   "outputs": [
    {
     "data": {
      "text/plain": [
       "0    882\n",
       "1    588\n",
       "Name: Gender, dtype: int64"
      ]
     },
     "execution_count": 12,
     "metadata": {},
     "output_type": "execute_result"
    }
   ],
   "source": [
    "data['Gender'].value_counts()"
   ]
  },
  {
   "cell_type": "code",
   "execution_count": 8,
   "metadata": {
    "colab": {
     "base_uri": "https://localhost:8080/"
    },
    "id": "JoeikvK61KMC",
    "outputId": "8864acb5-6a68-4d9d-db94-13266b89a3cf"
   },
   "outputs": [
    {
     "data": {
      "text/plain": [
       "array(['Single', 'Married', 'Divorced'], dtype=object)"
      ]
     },
     "execution_count": 8,
     "metadata": {},
     "output_type": "execute_result"
    }
   ],
   "source": [
    "data['MaritalStatus'].unique()"
   ]
  },
  {
   "cell_type": "code",
   "execution_count": 9,
   "metadata": {
    "colab": {
     "base_uri": "https://localhost:8080/"
    },
    "id": "v9UTAWbH1NoO",
    "outputId": "a1e40446-2a77-44d6-8c99-085170dfa3f2"
   },
   "outputs": [
    {
     "data": {
      "text/plain": [
       "array(['Yes', 'No'], dtype=object)"
      ]
     },
     "execution_count": 9,
     "metadata": {},
     "output_type": "execute_result"
    }
   ],
   "source": [
    "data['OverTime'].unique()"
   ]
  },
  {
   "cell_type": "code",
   "execution_count": 15,
   "metadata": {},
   "outputs": [],
   "source": [
    "data['OverTime'] = data['OverTime'].apply(lambda x: 0 if x == 'Yes' else 1)"
   ]
  },
  {
   "cell_type": "code",
   "execution_count": null,
   "metadata": {},
   "outputs": [],
   "source": []
  },
  {
   "cell_type": "code",
   "execution_count": 10,
   "metadata": {},
   "outputs": [
    {
     "data": {
      "text/plain": [
       "['BusinessTravel', 'Department', 'EducationField', 'MaritalStatus']"
      ]
     },
     "execution_count": 10,
     "metadata": {},
     "output_type": "execute_result"
    }
   ],
   "source": [
    "l1.remove('Gender')\n",
    "l1.remove('OverTime')\n",
    "l1"
   ]
  },
  {
   "cell_type": "code",
   "execution_count": 16,
   "metadata": {
    "colab": {
     "base_uri": "https://localhost:8080/",
     "height": 374
    },
    "id": "cWtMx4q05Brf",
    "outputId": "6626b068-d970-4d3f-85c2-45ff62d37c08"
   },
   "outputs": [
    {
     "name": "stderr",
     "output_type": "stream",
     "text": [
      "C:\\Users\\amarc\\anaconda3\\lib\\site-packages\\category_encoders\\target_encoder.py:122: FutureWarning: Default parameter min_samples_leaf will change in version 2.6.See https://github.com/scikit-learn-contrib/category_encoders/issues/327\n",
      "  warnings.warn(\"Default parameter min_samples_leaf will change in version 2.6.\"\n",
      "C:\\Users\\amarc\\anaconda3\\lib\\site-packages\\category_encoders\\target_encoder.py:127: FutureWarning: Default parameter smoothing will change in version 2.6.See https://github.com/scikit-learn-contrib/category_encoders/issues/327\n",
      "  warnings.warn(\"Default parameter smoothing will change in version 2.6.\"\n"
     ]
    },
    {
     "data": {
      "text/html": [
       "<div>\n",
       "<style scoped>\n",
       "    .dataframe tbody tr th:only-of-type {\n",
       "        vertical-align: middle;\n",
       "    }\n",
       "\n",
       "    .dataframe tbody tr th {\n",
       "        vertical-align: top;\n",
       "    }\n",
       "\n",
       "    .dataframe thead th {\n",
       "        text-align: right;\n",
       "    }\n",
       "</style>\n",
       "<table border=\"1\" class=\"dataframe\">\n",
       "  <thead>\n",
       "    <tr style=\"text-align: right;\">\n",
       "      <th></th>\n",
       "      <th>MaritalStatus</th>\n",
       "      <th>EducationField</th>\n",
       "      <th>Department</th>\n",
       "      <th>BusinessTravel</th>\n",
       "      <th>Age</th>\n",
       "      <th>Attrition</th>\n",
       "      <th>EnvironmentSatisfaction</th>\n",
       "      <th>Gender</th>\n",
       "      <th>JobInvolvement</th>\n",
       "      <th>JobLevel</th>\n",
       "      <th>JobSatisfaction</th>\n",
       "      <th>MonthlyIncome</th>\n",
       "      <th>OverTime</th>\n",
       "      <th>TotalWorkingYears</th>\n",
       "      <th>WorkLifeBalance</th>\n",
       "      <th>YearsAtCompany</th>\n",
       "      <th>YearsInCurrentRole</th>\n",
       "      <th>YearsSinceLastPromotion</th>\n",
       "      <th>YearsWithCurrManager</th>\n",
       "      <th>DistanceFromHome</th>\n",
       "    </tr>\n",
       "  </thead>\n",
       "  <tbody>\n",
       "    <tr>\n",
       "      <th>0</th>\n",
       "      <td>0.255319</td>\n",
       "      <td>0.146865</td>\n",
       "      <td>0.206278</td>\n",
       "      <td>0.149569</td>\n",
       "      <td>41</td>\n",
       "      <td>1</td>\n",
       "      <td>2</td>\n",
       "      <td>1</td>\n",
       "      <td>3</td>\n",
       "      <td>2</td>\n",
       "      <td>4</td>\n",
       "      <td>5993</td>\n",
       "      <td>1</td>\n",
       "      <td>8</td>\n",
       "      <td>1</td>\n",
       "      <td>6</td>\n",
       "      <td>4</td>\n",
       "      <td>0</td>\n",
       "      <td>5</td>\n",
       "      <td>1</td>\n",
       "    </tr>\n",
       "    <tr>\n",
       "      <th>1</th>\n",
       "      <td>0.124814</td>\n",
       "      <td>0.146865</td>\n",
       "      <td>0.138398</td>\n",
       "      <td>0.249097</td>\n",
       "      <td>49</td>\n",
       "      <td>0</td>\n",
       "      <td>3</td>\n",
       "      <td>0</td>\n",
       "      <td>2</td>\n",
       "      <td>2</td>\n",
       "      <td>2</td>\n",
       "      <td>5130</td>\n",
       "      <td>1</td>\n",
       "      <td>10</td>\n",
       "      <td>3</td>\n",
       "      <td>10</td>\n",
       "      <td>7</td>\n",
       "      <td>1</td>\n",
       "      <td>7</td>\n",
       "      <td>8</td>\n",
       "    </tr>\n",
       "    <tr>\n",
       "      <th>2</th>\n",
       "      <td>0.255319</td>\n",
       "      <td>0.134146</td>\n",
       "      <td>0.138398</td>\n",
       "      <td>0.149569</td>\n",
       "      <td>37</td>\n",
       "      <td>1</td>\n",
       "      <td>4</td>\n",
       "      <td>0</td>\n",
       "      <td>2</td>\n",
       "      <td>1</td>\n",
       "      <td>3</td>\n",
       "      <td>2090</td>\n",
       "      <td>1</td>\n",
       "      <td>7</td>\n",
       "      <td>3</td>\n",
       "      <td>0</td>\n",
       "      <td>0</td>\n",
       "      <td>0</td>\n",
       "      <td>0</td>\n",
       "      <td>2</td>\n",
       "    </tr>\n",
       "    <tr>\n",
       "      <th>3</th>\n",
       "      <td>0.124814</td>\n",
       "      <td>0.146865</td>\n",
       "      <td>0.138398</td>\n",
       "      <td>0.249097</td>\n",
       "      <td>33</td>\n",
       "      <td>0</td>\n",
       "      <td>4</td>\n",
       "      <td>1</td>\n",
       "      <td>3</td>\n",
       "      <td>1</td>\n",
       "      <td>3</td>\n",
       "      <td>2909</td>\n",
       "      <td>1</td>\n",
       "      <td>8</td>\n",
       "      <td>3</td>\n",
       "      <td>8</td>\n",
       "      <td>7</td>\n",
       "      <td>3</td>\n",
       "      <td>0</td>\n",
       "      <td>3</td>\n",
       "    </tr>\n",
       "    <tr>\n",
       "      <th>4</th>\n",
       "      <td>0.124814</td>\n",
       "      <td>0.135776</td>\n",
       "      <td>0.138398</td>\n",
       "      <td>0.149569</td>\n",
       "      <td>27</td>\n",
       "      <td>0</td>\n",
       "      <td>1</td>\n",
       "      <td>0</td>\n",
       "      <td>3</td>\n",
       "      <td>1</td>\n",
       "      <td>2</td>\n",
       "      <td>3468</td>\n",
       "      <td>1</td>\n",
       "      <td>6</td>\n",
       "      <td>3</td>\n",
       "      <td>2</td>\n",
       "      <td>2</td>\n",
       "      <td>2</td>\n",
       "      <td>2</td>\n",
       "      <td>2</td>\n",
       "    </tr>\n",
       "    <tr>\n",
       "      <th>...</th>\n",
       "      <td>...</td>\n",
       "      <td>...</td>\n",
       "      <td>...</td>\n",
       "      <td>...</td>\n",
       "      <td>...</td>\n",
       "      <td>...</td>\n",
       "      <td>...</td>\n",
       "      <td>...</td>\n",
       "      <td>...</td>\n",
       "      <td>...</td>\n",
       "      <td>...</td>\n",
       "      <td>...</td>\n",
       "      <td>...</td>\n",
       "      <td>...</td>\n",
       "      <td>...</td>\n",
       "      <td>...</td>\n",
       "      <td>...</td>\n",
       "      <td>...</td>\n",
       "      <td>...</td>\n",
       "      <td>...</td>\n",
       "    </tr>\n",
       "    <tr>\n",
       "      <th>1465</th>\n",
       "      <td>0.124814</td>\n",
       "      <td>0.135776</td>\n",
       "      <td>0.138398</td>\n",
       "      <td>0.249097</td>\n",
       "      <td>36</td>\n",
       "      <td>0</td>\n",
       "      <td>3</td>\n",
       "      <td>0</td>\n",
       "      <td>4</td>\n",
       "      <td>2</td>\n",
       "      <td>4</td>\n",
       "      <td>2571</td>\n",
       "      <td>1</td>\n",
       "      <td>17</td>\n",
       "      <td>3</td>\n",
       "      <td>5</td>\n",
       "      <td>2</td>\n",
       "      <td>0</td>\n",
       "      <td>3</td>\n",
       "      <td>23</td>\n",
       "    </tr>\n",
       "    <tr>\n",
       "      <th>1466</th>\n",
       "      <td>0.124814</td>\n",
       "      <td>0.135776</td>\n",
       "      <td>0.138398</td>\n",
       "      <td>0.149569</td>\n",
       "      <td>39</td>\n",
       "      <td>0</td>\n",
       "      <td>4</td>\n",
       "      <td>0</td>\n",
       "      <td>2</td>\n",
       "      <td>3</td>\n",
       "      <td>1</td>\n",
       "      <td>9991</td>\n",
       "      <td>1</td>\n",
       "      <td>9</td>\n",
       "      <td>3</td>\n",
       "      <td>7</td>\n",
       "      <td>7</td>\n",
       "      <td>1</td>\n",
       "      <td>7</td>\n",
       "      <td>6</td>\n",
       "    </tr>\n",
       "    <tr>\n",
       "      <th>1467</th>\n",
       "      <td>0.124814</td>\n",
       "      <td>0.146865</td>\n",
       "      <td>0.138398</td>\n",
       "      <td>0.149569</td>\n",
       "      <td>27</td>\n",
       "      <td>0</td>\n",
       "      <td>2</td>\n",
       "      <td>0</td>\n",
       "      <td>4</td>\n",
       "      <td>2</td>\n",
       "      <td>2</td>\n",
       "      <td>6142</td>\n",
       "      <td>1</td>\n",
       "      <td>6</td>\n",
       "      <td>3</td>\n",
       "      <td>6</td>\n",
       "      <td>2</td>\n",
       "      <td>0</td>\n",
       "      <td>3</td>\n",
       "      <td>4</td>\n",
       "    </tr>\n",
       "    <tr>\n",
       "      <th>1468</th>\n",
       "      <td>0.124814</td>\n",
       "      <td>0.135776</td>\n",
       "      <td>0.206278</td>\n",
       "      <td>0.249097</td>\n",
       "      <td>49</td>\n",
       "      <td>0</td>\n",
       "      <td>4</td>\n",
       "      <td>0</td>\n",
       "      <td>2</td>\n",
       "      <td>2</td>\n",
       "      <td>2</td>\n",
       "      <td>5390</td>\n",
       "      <td>1</td>\n",
       "      <td>17</td>\n",
       "      <td>2</td>\n",
       "      <td>9</td>\n",
       "      <td>6</td>\n",
       "      <td>0</td>\n",
       "      <td>8</td>\n",
       "      <td>2</td>\n",
       "    </tr>\n",
       "    <tr>\n",
       "      <th>1469</th>\n",
       "      <td>0.124814</td>\n",
       "      <td>0.135776</td>\n",
       "      <td>0.138398</td>\n",
       "      <td>0.149569</td>\n",
       "      <td>34</td>\n",
       "      <td>0</td>\n",
       "      <td>2</td>\n",
       "      <td>0</td>\n",
       "      <td>4</td>\n",
       "      <td>2</td>\n",
       "      <td>3</td>\n",
       "      <td>4404</td>\n",
       "      <td>1</td>\n",
       "      <td>6</td>\n",
       "      <td>4</td>\n",
       "      <td>4</td>\n",
       "      <td>3</td>\n",
       "      <td>1</td>\n",
       "      <td>2</td>\n",
       "      <td>8</td>\n",
       "    </tr>\n",
       "  </tbody>\n",
       "</table>\n",
       "<p>1470 rows × 20 columns</p>\n",
       "</div>"
      ],
      "text/plain": [
       "      MaritalStatus  EducationField  Department  BusinessTravel  Age  \\\n",
       "0          0.255319        0.146865    0.206278        0.149569   41   \n",
       "1          0.124814        0.146865    0.138398        0.249097   49   \n",
       "2          0.255319        0.134146    0.138398        0.149569   37   \n",
       "3          0.124814        0.146865    0.138398        0.249097   33   \n",
       "4          0.124814        0.135776    0.138398        0.149569   27   \n",
       "...             ...             ...         ...             ...  ...   \n",
       "1465       0.124814        0.135776    0.138398        0.249097   36   \n",
       "1466       0.124814        0.135776    0.138398        0.149569   39   \n",
       "1467       0.124814        0.146865    0.138398        0.149569   27   \n",
       "1468       0.124814        0.135776    0.206278        0.249097   49   \n",
       "1469       0.124814        0.135776    0.138398        0.149569   34   \n",
       "\n",
       "      Attrition  EnvironmentSatisfaction  Gender  JobInvolvement  JobLevel  \\\n",
       "0             1                        2       1               3         2   \n",
       "1             0                        3       0               2         2   \n",
       "2             1                        4       0               2         1   \n",
       "3             0                        4       1               3         1   \n",
       "4             0                        1       0               3         1   \n",
       "...         ...                      ...     ...             ...       ...   \n",
       "1465          0                        3       0               4         2   \n",
       "1466          0                        4       0               2         3   \n",
       "1467          0                        2       0               4         2   \n",
       "1468          0                        4       0               2         2   \n",
       "1469          0                        2       0               4         2   \n",
       "\n",
       "      JobSatisfaction  MonthlyIncome  OverTime  TotalWorkingYears  \\\n",
       "0                   4           5993         1                  8   \n",
       "1                   2           5130         1                 10   \n",
       "2                   3           2090         1                  7   \n",
       "3                   3           2909         1                  8   \n",
       "4                   2           3468         1                  6   \n",
       "...               ...            ...       ...                ...   \n",
       "1465                4           2571         1                 17   \n",
       "1466                1           9991         1                  9   \n",
       "1467                2           6142         1                  6   \n",
       "1468                2           5390         1                 17   \n",
       "1469                3           4404         1                  6   \n",
       "\n",
       "      WorkLifeBalance  YearsAtCompany  YearsInCurrentRole  \\\n",
       "0                   1               6                   4   \n",
       "1                   3              10                   7   \n",
       "2                   3               0                   0   \n",
       "3                   3               8                   7   \n",
       "4                   3               2                   2   \n",
       "...               ...             ...                 ...   \n",
       "1465                3               5                   2   \n",
       "1466                3               7                   7   \n",
       "1467                3               6                   2   \n",
       "1468                2               9                   6   \n",
       "1469                4               4                   3   \n",
       "\n",
       "      YearsSinceLastPromotion  YearsWithCurrManager  DistanceFromHome  \n",
       "0                           0                     5                 1  \n",
       "1                           1                     7                 8  \n",
       "2                           0                     0                 2  \n",
       "3                           3                     0                 3  \n",
       "4                           2                     2                 2  \n",
       "...                       ...                   ...               ...  \n",
       "1465                        0                     3                23  \n",
       "1466                        1                     7                 6  \n",
       "1467                        0                     3                 4  \n",
       "1468                        0                     8                 2  \n",
       "1469                        1                     2                 8  \n",
       "\n",
       "[1470 rows x 20 columns]"
      ]
     },
     "execution_count": 16,
     "metadata": {},
     "output_type": "execute_result"
    }
   ],
   "source": [
    "# Target Encoding\n",
    "\n",
    "import category_encoders as ce\n",
    "\n",
    "tenc=ce.TargetEncoder() \n",
    "data_travel = tenc.fit_transform(data['BusinessTravel'],data['Attrition'])\n",
    "data_dep = tenc.fit_transform(data['Department'],data['Attrition'])\n",
    "data_edu = tenc.fit_transform(data['EducationField'],data['Attrition'])\n",
    "data_marital_status = tenc.fit_transform(data['MaritalStatus'],data['Attrition'])\n",
    "\n",
    "data_new1 = data_travel.join(data.drop('BusinessTravel',axis = 1))\n",
    "data_new2 = data_dep.join(data_new1.drop('Department',axis = 1))\n",
    "data_new3 = data_edu.join(data_new2.drop('EducationField',axis = 1))\n",
    "data_new = data_marital_status.join(data_new3.drop('MaritalStatus',axis = 1))\n",
    "\n",
    "data_new\n"
   ]
  },
  {
   "cell_type": "markdown",
   "metadata": {
    "id": "u2iuthk940-2"
   },
   "source": [
    "### Decision Tree Module"
   ]
  },
  {
   "cell_type": "markdown",
   "metadata": {
    "id": "98ZsNKskwgvS"
   },
   "source": [
    "### 1 Predictor and target"
   ]
  },
  {
   "cell_type": "code",
   "execution_count": 20,
   "metadata": {},
   "outputs": [],
   "source": [
    "import pandas as pd\n",
    "import numpy as np\n",
    "import matplotlib.pyplot as plt \n",
    "import seaborn as sns\n",
    "from sklearn.preprocessing import StandardScaler\n",
    "from sklearn.model_selection import train_test_split\n",
    "from sklearn.neighbors import KNeighborsClassifier \n",
    "from sklearn.metrics import accuracy_score, f1_score, recall_score, mean_absolute_percentage_error, mean_squared_error, confusion_matrix,precision_score \n",
    "import warnings \n",
    "warnings.filterwarnings(\"ignore\")\n",
    "%matplotlib inline"
   ]
  },
  {
   "cell_type": "code",
   "execution_count": 21,
   "metadata": {
    "id": "e_K17-SswCf0"
   },
   "outputs": [],
   "source": [
    "#dropping the test data column\n",
    "x = data_new.drop(['Attrition'],axis=1)\n",
    "y = data_new.Attrition"
   ]
  },
  {
   "cell_type": "code",
   "execution_count": 22,
   "metadata": {
    "colab": {
     "base_uri": "https://localhost:8080/",
     "height": 340
    },
    "id": "YIlDKuwWwJGf",
    "outputId": "7f751da8-c2e5-4730-ce17-d3cdd9853365"
   },
   "outputs": [
    {
     "data": {
      "text/html": [
       "<div>\n",
       "<style scoped>\n",
       "    .dataframe tbody tr th:only-of-type {\n",
       "        vertical-align: middle;\n",
       "    }\n",
       "\n",
       "    .dataframe tbody tr th {\n",
       "        vertical-align: top;\n",
       "    }\n",
       "\n",
       "    .dataframe thead th {\n",
       "        text-align: right;\n",
       "    }\n",
       "</style>\n",
       "<table border=\"1\" class=\"dataframe\">\n",
       "  <thead>\n",
       "    <tr style=\"text-align: right;\">\n",
       "      <th></th>\n",
       "      <th>MaritalStatus</th>\n",
       "      <th>EducationField</th>\n",
       "      <th>Department</th>\n",
       "      <th>BusinessTravel</th>\n",
       "      <th>Age</th>\n",
       "      <th>EnvironmentSatisfaction</th>\n",
       "      <th>Gender</th>\n",
       "      <th>JobInvolvement</th>\n",
       "      <th>JobLevel</th>\n",
       "      <th>JobSatisfaction</th>\n",
       "      <th>MonthlyIncome</th>\n",
       "      <th>OverTime</th>\n",
       "      <th>TotalWorkingYears</th>\n",
       "      <th>WorkLifeBalance</th>\n",
       "      <th>YearsAtCompany</th>\n",
       "      <th>YearsInCurrentRole</th>\n",
       "      <th>YearsSinceLastPromotion</th>\n",
       "      <th>YearsWithCurrManager</th>\n",
       "      <th>DistanceFromHome</th>\n",
       "    </tr>\n",
       "  </thead>\n",
       "  <tbody>\n",
       "    <tr>\n",
       "      <th>0</th>\n",
       "      <td>0.255319</td>\n",
       "      <td>0.146865</td>\n",
       "      <td>0.206278</td>\n",
       "      <td>0.149569</td>\n",
       "      <td>41</td>\n",
       "      <td>2</td>\n",
       "      <td>1</td>\n",
       "      <td>3</td>\n",
       "      <td>2</td>\n",
       "      <td>4</td>\n",
       "      <td>5993</td>\n",
       "      <td>1</td>\n",
       "      <td>8</td>\n",
       "      <td>1</td>\n",
       "      <td>6</td>\n",
       "      <td>4</td>\n",
       "      <td>0</td>\n",
       "      <td>5</td>\n",
       "      <td>1</td>\n",
       "    </tr>\n",
       "    <tr>\n",
       "      <th>1</th>\n",
       "      <td>0.124814</td>\n",
       "      <td>0.146865</td>\n",
       "      <td>0.138398</td>\n",
       "      <td>0.249097</td>\n",
       "      <td>49</td>\n",
       "      <td>3</td>\n",
       "      <td>0</td>\n",
       "      <td>2</td>\n",
       "      <td>2</td>\n",
       "      <td>2</td>\n",
       "      <td>5130</td>\n",
       "      <td>1</td>\n",
       "      <td>10</td>\n",
       "      <td>3</td>\n",
       "      <td>10</td>\n",
       "      <td>7</td>\n",
       "      <td>1</td>\n",
       "      <td>7</td>\n",
       "      <td>8</td>\n",
       "    </tr>\n",
       "    <tr>\n",
       "      <th>2</th>\n",
       "      <td>0.255319</td>\n",
       "      <td>0.134146</td>\n",
       "      <td>0.138398</td>\n",
       "      <td>0.149569</td>\n",
       "      <td>37</td>\n",
       "      <td>4</td>\n",
       "      <td>0</td>\n",
       "      <td>2</td>\n",
       "      <td>1</td>\n",
       "      <td>3</td>\n",
       "      <td>2090</td>\n",
       "      <td>1</td>\n",
       "      <td>7</td>\n",
       "      <td>3</td>\n",
       "      <td>0</td>\n",
       "      <td>0</td>\n",
       "      <td>0</td>\n",
       "      <td>0</td>\n",
       "      <td>2</td>\n",
       "    </tr>\n",
       "    <tr>\n",
       "      <th>3</th>\n",
       "      <td>0.124814</td>\n",
       "      <td>0.146865</td>\n",
       "      <td>0.138398</td>\n",
       "      <td>0.249097</td>\n",
       "      <td>33</td>\n",
       "      <td>4</td>\n",
       "      <td>1</td>\n",
       "      <td>3</td>\n",
       "      <td>1</td>\n",
       "      <td>3</td>\n",
       "      <td>2909</td>\n",
       "      <td>1</td>\n",
       "      <td>8</td>\n",
       "      <td>3</td>\n",
       "      <td>8</td>\n",
       "      <td>7</td>\n",
       "      <td>3</td>\n",
       "      <td>0</td>\n",
       "      <td>3</td>\n",
       "    </tr>\n",
       "    <tr>\n",
       "      <th>4</th>\n",
       "      <td>0.124814</td>\n",
       "      <td>0.135776</td>\n",
       "      <td>0.138398</td>\n",
       "      <td>0.149569</td>\n",
       "      <td>27</td>\n",
       "      <td>1</td>\n",
       "      <td>0</td>\n",
       "      <td>3</td>\n",
       "      <td>1</td>\n",
       "      <td>2</td>\n",
       "      <td>3468</td>\n",
       "      <td>1</td>\n",
       "      <td>6</td>\n",
       "      <td>3</td>\n",
       "      <td>2</td>\n",
       "      <td>2</td>\n",
       "      <td>2</td>\n",
       "      <td>2</td>\n",
       "      <td>2</td>\n",
       "    </tr>\n",
       "  </tbody>\n",
       "</table>\n",
       "</div>"
      ],
      "text/plain": [
       "   MaritalStatus  EducationField  Department  BusinessTravel  Age  \\\n",
       "0       0.255319        0.146865    0.206278        0.149569   41   \n",
       "1       0.124814        0.146865    0.138398        0.249097   49   \n",
       "2       0.255319        0.134146    0.138398        0.149569   37   \n",
       "3       0.124814        0.146865    0.138398        0.249097   33   \n",
       "4       0.124814        0.135776    0.138398        0.149569   27   \n",
       "\n",
       "   EnvironmentSatisfaction  Gender  JobInvolvement  JobLevel  JobSatisfaction  \\\n",
       "0                        2       1               3         2                4   \n",
       "1                        3       0               2         2                2   \n",
       "2                        4       0               2         1                3   \n",
       "3                        4       1               3         1                3   \n",
       "4                        1       0               3         1                2   \n",
       "\n",
       "   MonthlyIncome  OverTime  TotalWorkingYears  WorkLifeBalance  \\\n",
       "0           5993         1                  8                1   \n",
       "1           5130         1                 10                3   \n",
       "2           2090         1                  7                3   \n",
       "3           2909         1                  8                3   \n",
       "4           3468         1                  6                3   \n",
       "\n",
       "   YearsAtCompany  YearsInCurrentRole  YearsSinceLastPromotion  \\\n",
       "0               6                   4                        0   \n",
       "1              10                   7                        1   \n",
       "2               0                   0                        0   \n",
       "3               8                   7                        3   \n",
       "4               2                   2                        2   \n",
       "\n",
       "   YearsWithCurrManager  DistanceFromHome  \n",
       "0                     5                 1  \n",
       "1                     7                 8  \n",
       "2                     0                 2  \n",
       "3                     0                 3  \n",
       "4                     2                 2  "
      ]
     },
     "execution_count": 22,
     "metadata": {},
     "output_type": "execute_result"
    }
   ],
   "source": [
    "x.head()"
   ]
  },
  {
   "cell_type": "markdown",
   "metadata": {
    "id": "CzZMZFd5wtth"
   },
   "source": [
    "### 2 Train - validation - Test Split"
   ]
  },
  {
   "cell_type": "code",
   "execution_count": 23,
   "metadata": {
    "id": "r-rOeOnGwpcp"
   },
   "outputs": [],
   "source": [
    "# for test-train split\n",
    "from sklearn.model_selection import train_test_split"
   ]
  },
  {
   "cell_type": "code",
   "execution_count": 24,
   "metadata": {
    "id": "i-KuM1tUw0wI"
   },
   "outputs": [],
   "source": [
    "#Train - Test split\n",
    "x_train,x_test,y_train,y_test = train_test_split(x,y,test_size=0.2)"
   ]
  },
  {
   "cell_type": "code",
   "execution_count": null,
   "metadata": {
    "id": "7CWiIxOow5lP"
   },
   "outputs": [],
   "source": [
    "#Train - Validation split\n",
    "x_train,x_valid,y_train,y_valid = train_test_split(x_train,y_train,test_size=0.25)"
   ]
  },
  {
   "cell_type": "markdown",
   "metadata": {
    "id": "Szun3gWuw_qo"
   },
   "source": [
    "### 3 Fitting a Regression Tree And Prediction"
   ]
  },
  {
   "cell_type": "code",
   "execution_count": 25,
   "metadata": {
    "id": "KvJyiRoYw8O6"
   },
   "outputs": [],
   "source": [
    "# for fitting Clasifier tree\n",
    "from sklearn.tree import DecisionTreeClassifier\n",
    "from sklearn.model_selection import cross_validate"
   ]
  },
  {
   "cell_type": "code",
   "execution_count": 26,
   "metadata": {},
   "outputs": [],
   "source": [
    "depth = np.arange(1,40)\n",
    "F1 =[]\n",
    "\n",
    "for k in depth:\n",
    "    cls_tree = DecisionTreeClassifier(max_depth=k,min_samples_leaf=5)   \n",
    "    cls_tree.fit(x_train,y_train)\n",
    "    y_pred= cls_tree.predict(x_test)\n",
    "    F1.append(f1_score(y_test, y_pred)*100)\n",
    "    "
   ]
  },
  {
   "cell_type": "code",
   "execution_count": 27,
   "metadata": {},
   "outputs": [
    {
     "data": {
      "image/png": "[encoded data removed]",
      "text/plain": [
       "<Figure size 432x288 with 1 Axes>"
      ]
     },
     "metadata": {
      "needs_background": "light"
     },
     "output_type": "display_data"
    }
   ],
   "source": [
    "plt.plot(depth,np.array(F1))\n",
    "plt.show()"
   ]
  },
  {
   "cell_type": "code",
   "execution_count": null,
   "metadata": {
    "colab": {
     "base_uri": "https://localhost:8080/",
     "height": 329
    },
    "id": "ZtUk-sygxG69",
    "outputId": "f3eef8ed-248f-452f-d71a-c4ef6c7e9fea"
   },
   "outputs": [],
   "source": [
    "depth = 6"
   ]
  },
  {
   "cell_type": "code",
   "execution_count": 29,
   "metadata": {},
   "outputs": [
    {
     "data": {
      "text/plain": [
       "32.098765432098766"
      ]
     },
     "execution_count": 29,
     "metadata": {},
     "output_type": "execute_result"
    }
   ],
   "source": [
    "clf_tree = DecisionTreeClassifier(max_depth=6,min_samples_leaf=5)   \n",
    "clf_tree.fit(x_train,y_train)\n",
    "y_pred= clf_tree.predict(x_test)\n",
    "f1_score(y_test, y_pred)*100  #f1 score"
   ]
  },
  {
   "cell_type": "code",
   "execution_count": null,
   "metadata": {},
   "outputs": [],
   "source": []
  },
  {
   "cell_type": "code",
   "execution_count": null,
   "metadata": {},
   "outputs": [],
   "source": []
  },
  {
   "cell_type": "markdown",
   "metadata": {},
   "source": [
    "### 4 Plotting a Regression Tree"
   ]
  },
  {
   "cell_type": "code",
   "execution_count": 30,
   "metadata": {},
   "outputs": [
    {
     "data": {
      "image/png": "[encoded data removed]",
      "text/plain": [
       "<Figure size 1600x1600 with 1 Axes>"
      ]
     },
     "metadata": {
      "needs_background": "light"
     },
     "output_type": "display_data"
    }
   ],
   "source": [
    "# for importing tree\n",
    "from sklearn import tree\n",
    "fig,axes = plt.subplots(figsize=(4,4),dpi=400)\n",
    "tree.plot_tree(clf_tree,feature_names=list(x),filled=False)\n",
    "plt.show()"
   ]
  },
  {
   "cell_type": "markdown",
   "metadata": {},
   "source": [
    "### 5 Model Performance checks"
   ]
  },
  {
   "cell_type": "code",
   "execution_count": 31,
   "metadata": {},
   "outputs": [
    {
     "name": "stdout",
     "output_type": "stream",
     "text": [
      "Accuracy : 81.29251700680273%\n",
      "recall_score : 26.53061224489796%\n",
      "precision_score : 40.625%\n",
      "f1_score : 32.098765432098766%\n",
      "confusion_matrix :\n",
      "[[226  19]\n",
      " [ 36  13]]\n"
     ]
    }
   ],
   "source": [
    "print(f\"Accuracy : {accuracy_score(y_test, y_pred)*100}%\")\n",
    "print(f\"recall_score : {recall_score(y_test, y_pred)*100}%\")\n",
    "print(f\"precision_score : {precision_score(y_test, y_pred)*100}%\")\n",
    "print(f\"f1_score : {f1_score(y_test, y_pred)*100}%\")\n",
    "print(f\"confusion_matrix :\")\n",
    "print(confusion_matrix(y_test, y_pred))"
   ]
  },
  {
   "cell_type": "code",
   "execution_count": 32,
   "metadata": {},
   "outputs": [],
   "source": [
    "# Predicted        Not leaving the insurance company   leaving the insurance company\n",
    "# Actual\n",
    "# Not leaving the company  226  -TN           19   -FP\n",
    "# leaving the company      36   -FN           13    -TP\n",
    "confusion = confusion_matrix(y_test, y_pred)\n",
    "TP = confusion[1,1] # true positive \n",
    "TN = confusion[0,0] # true negatives\n",
    "FP = confusion[0,1] # false positives\n",
    "FN = confusion[1,0] # false negatives"
   ]
  },
  {
   "cell_type": "code",
   "execution_count": 33,
   "metadata": {},
   "outputs": [
    {
     "name": "stdout",
     "output_type": "stream",
     "text": [
      "                         precision    recall  f1-score   support\n",
      "\n",
      "Not leaving the company       0.86      0.92      0.89       245\n",
      "    leaving the company       0.41      0.27      0.32        49\n",
      "\n",
      "               accuracy                           0.81       294\n",
      "              macro avg       0.63      0.59      0.61       294\n",
      "           weighted avg       0.79      0.81      0.80       294\n",
      "\n"
     ]
    }
   ],
   "source": [
    "# Calculate the sensitivity\n",
    "TP/(TP+FN)\n",
    "\n",
    "# Calculate the specificity\n",
    "TN/(TN+FP)\n",
    "\n",
    "from sklearn.metrics import classification_report\n",
    "\n",
    "print(f\"{classification_report(y_test, y_pred, target_names=['Not leaving the company','leaving the company'])}\")"
   ]
  },
  {
   "cell_type": "code",
   "execution_count": 34,
   "metadata": {},
   "outputs": [],
   "source": [
    "from sklearn.metrics import (accuracy_score, confusion_matrix, classification_report,roc_auc_score, roc_curve, auc,plot_confusion_matrix, plot_roc_curve)\n",
    "from sklearn.metrics import roc_curve"
   ]
  },
  {
   "cell_type": "code",
   "execution_count": 35,
   "metadata": {},
   "outputs": [
    {
     "data": {
      "image/png": "[encoded data removed]",
      "text/plain": [
       "<Figure size 432x288 with 1 Axes>"
      ]
     },
     "metadata": {
      "needs_background": "light"
     },
     "output_type": "display_data"
    },
    {
     "name": "stdout",
     "output_type": "stream",
     "text": [
      "AUC SCORE :0.6658059142024157\n"
     ]
    }
   ],
   "source": [
    "\n",
    "# AUC- ROC\n",
    "\n",
    "y_pred_proba = clf_tree.predict_proba(x_test)[::,1]\n",
    "fpr, tpr, label = roc_curve(y_test,  y_pred_proba)\n",
    "auc = roc_auc_score(y_test, y_pred_proba)\n",
    "\n",
    "#create ROC curve\n",
    "plt.plot(fpr,tpr,label=\"AUC=\"+str(auc))\n",
    "plt.ylabel('True Positive Rate')\n",
    "plt.xlabel('False Positive Rate')\n",
    "plt.legend(loc=4)\n",
    "plt.grid()\n",
    "plt.title(\"AU-ROC Curve\")\n",
    "plt.show()\n",
    "print(f\"AUC SCORE :{auc}\" )"
   ]
  },
  {
   "cell_type": "code",
   "execution_count": 36,
   "metadata": {},
   "outputs": [
    {
     "data": {
      "image/png": "[encoded data removed]",
      "text/plain": [
       "<Figure size 1080x504 with 1 Axes>"
      ]
     },
     "metadata": {
      "needs_background": "light"
     },
     "output_type": "display_data"
    }
   ],
   "source": [
    "# Feature importance\n",
    "importances = clf_tree.feature_importances_\n",
    "indices = np.argsort(importances)[::-1] # Sort feature importances in descending order\n",
    "names = [x_test.columns[i] for i in indices] # Rearrange feature names so they match the sorted feature importances\n",
    "plt.figure(figsize=(15, 7)) # Create plot\n",
    "plt.title(\"Feature Importance\") # Create plot title\n",
    "plt.bar(range(x_test.shape[1]), importances[indices],color=sns.color_palette(\"flare\")) # Add bars\n",
    "plt.xticks(range(x_test.shape[1]), names, rotation=90) # Add feature names as x-axis labels\n",
    "plt.show()"
   ]
  },
  {
   "cell_type": "code",
   "execution_count": null,
   "metadata": {},
   "outputs": [],
   "source": []
  },
  {
   "cell_type": "code",
   "execution_count": null,
   "metadata": {},
   "outputs": [],
   "source": []
  },
  {
   "cell_type": "markdown",
   "metadata": {},
   "source": [
    "### KNN Module"
   ]
  },
  {
   "cell_type": "code",
   "execution_count": null,
   "metadata": {},
   "outputs": [],
   "source": [
    "import pandas as pd\n",
    "import numpy as np\n",
    "import matplotlib.pyplot as plt \n",
    "import seaborn as sns\n",
    "from sklearn.preprocessing import StandardScaler\n",
    "from sklearn.model_selection import train_test_split\n",
    "from sklearn.neighbors import KNeighborsClassifier \n",
    "from sklearn.metrics import accuracy_score, f1_score, recall_score, mean_absolute_percentage_error, mean_squared_error, confusion_matrix\n",
    "import warnings \n",
    "warnings.filterwarnings(\"ignore\")\n",
    "%matplotlib inline"
   ]
  },
  {
   "cell_type": "code",
   "execution_count": null,
   "metadata": {},
   "outputs": [],
   "source": [
    "data_new"
   ]
  },
  {
   "cell_type": "code",
   "execution_count": null,
   "metadata": {},
   "outputs": [],
   "source": [
    "#dropping the test data column\n",
    "x = data_new.drop(['Attrition'],axis=1)\n",
    "y = data_new.Attrition"
   ]
  },
  {
   "cell_type": "code",
   "execution_count": null,
   "metadata": {},
   "outputs": [],
   "source": []
  },
  {
   "cell_type": "markdown",
   "metadata": {},
   "source": []
  },
  {
   "cell_type": "code",
   "execution_count": null,
   "metadata": {},
   "outputs": [],
   "source": [
    "#Train - Test split\n",
    "x_train,x_test,y_train,y_test = train_test_split(x,y,test_size=0.2)"
   ]
  },
  {
   "cell_type": "code",
   "execution_count": null,
   "metadata": {},
   "outputs": [],
   "source": [
    "from sklearn.neighbors import KNeighborsClassifier \n",
    "from sklearn.model_selection import cross_validate\n",
    "\n",
    "knn = KNeighborsClassifier(n_neighbors= 1)\n",
    "knn.fit(x_train, y_train)\n",
    "y_pred = knn.predict(x_test)\n",
    "y_pred"
   ]
  },
  {
   "cell_type": "code",
   "execution_count": null,
   "metadata": {},
   "outputs": [],
   "source": [
    "depth = np.arange(1,40)\n",
    "mean_f1 = []\n",
    "\n",
    "for k in depth:\n",
    "    knn_model = KNeighborsClassifier(n_neighbors= k, metric='euclidean')\n",
    "    knn = cross_validate(estimator=knn_model, X=x_train,  y=y_train, cv=5, scoring='f1')\n",
    "    mean_f1.append(np.mean(knn['test_score']))\n",
    "    "
   ]
  },
  {
   "cell_type": "code",
   "execution_count": null,
   "metadata": {},
   "outputs": [],
   "source": [
    "plt.plot(depth,np.array(mean_f1))\n",
    "plt.show()"
   ]
  },
  {
   "cell_type": "code",
   "execution_count": null,
   "metadata": {},
   "outputs": [],
   "source": [
    "# Test\n",
    "k = 3\n",
    "knn = KNeighborsClassifier(n_neighbors= k)\n",
    "knn.fit(x_train, y_train)\n",
    "y_pred_knn = knn.predict(x_test)\n",
    "y_pred_knn"
   ]
  },
  {
   "cell_type": "code",
   "execution_count": null,
   "metadata": {},
   "outputs": [],
   "source": [
    "print(f\"Accuracy : {accuracy_score(y_test, y_pred)*100}%\")\n",
    "print(f\"recall_score : {recall_score(y_test, y_pred)*100}%\")\n",
    "print(f\"precision_score : {precision_score(y_test, y_pred)*100}%\")\n",
    "print(f\"f1_score : {f1_score(y_test, y_pred)*100}%\")\n",
    "print(f\"confusion_matrix :\")\n",
    "print(confusion_matrix(y_test, y_pred))"
   ]
  },
  {
   "cell_type": "code",
   "execution_count": null,
   "metadata": {},
   "outputs": [],
   "source": []
  }
 ],
 "metadata": {
  "colab": {
   "collapsed_sections": [],
   "provenance": []
  },
  "kernelspec": {
   "display_name": "Python 3 (ipykernel)",
   "language": "python",
   "name": "python3"
  },
  "language_info": {
   "codemirror_mode": {
    "name": "ipython",
    "version": 3
   },
   "file_extension": ".py",
   "mimetype": "text/x-python",
   "name": "python",
   "nbconvert_exporter": "python",
   "pygments_lexer": "ipython3",
   "version": "3.9.12"
  },
  "varInspector": {
   "cols": {
    "lenName": 16,
    "lenType": 16,
    "lenVar": 40
   },
   "kernels_config": {
    "python": {
     "delete_cmd_postfix": "",
     "delete_cmd_prefix": "del ",
     "library": "var_list.py",
     "varRefreshCmd": "print(var_dic_list())"
    },
    "r": {
     "delete_cmd_postfix": ") ",
     "delete_cmd_prefix": "rm(",
     "library": "var_list.r",
     "varRefreshCmd": "cat(var_dic_list()) "
    }
   },
   "types_to_exclude": [
    "module",
    "function",
    "builtin_function_or_method",
    "instance",
    "_Feature"
   ],
   "window_display": false
  }
 },
 "nbformat": 4,
 "nbformat_minor": 1
}
